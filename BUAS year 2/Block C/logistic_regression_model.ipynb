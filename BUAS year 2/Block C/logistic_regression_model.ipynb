{
 "cells": [
  {
   "cell_type": "code",
   "execution_count": 67,
   "metadata": {},
   "outputs": [],
   "source": [
    "import pandas as pd\n",
    "from sklearn.model_selection import train_test_split\n",
    "from sklearn.naive_bayes import GaussianNB\n",
    "from sklearn.metrics import accuracy_score\n",
    "from sklearn.feature_extraction.text import CountVectorizer, TfidfVectorizer\n",
    "from sklearn.linear_model import LogisticRegression\n",
    "from sklearn.metrics import f1_score\n",
    "import matplotlib.pyplot as plt\n",
    "from tensorflow.keras.callbacks import EarlyStopping\n",
    "from sklearn.metrics import accuracy_score, f1_score\n",
    "from sklearn.utils import shuffle\n",
    "from scipy.sparse import csr_matrix\n",
    "from sklearn.metrics import confusion_matrix, ConfusionMatrixDisplay"
   ]
  },
  {
   "cell_type": "code",
   "execution_count": 68,
   "metadata": {},
   "outputs": [
    {
     "data": {
      "text/html": [
       "<div>\n",
       "<style scoped>\n",
       "    .dataframe tbody tr th:only-of-type {\n",
       "        vertical-align: middle;\n",
       "    }\n",
       "\n",
       "    .dataframe tbody tr th {\n",
       "        vertical-align: top;\n",
       "    }\n",
       "\n",
       "    .dataframe thead th {\n",
       "        text-align: right;\n",
       "    }\n",
       "</style>\n",
       "<table border=\"1\" class=\"dataframe\">\n",
       "  <thead>\n",
       "    <tr style=\"text-align: right;\">\n",
       "      <th></th>\n",
       "      <th>sentence</th>\n",
       "      <th>emotion</th>\n",
       "      <th>doc_2_grams</th>\n",
       "      <th>doc_3_grams</th>\n",
       "      <th>token_part_of_speech</th>\n",
       "      <th>token_lemmatized</th>\n",
       "      <th>token_normalized</th>\n",
       "      <th>token_dependancy</th>\n",
       "      <th>token_sentiment</th>\n",
       "    </tr>\n",
       "  </thead>\n",
       "  <tbody>\n",
       "    <tr>\n",
       "      <th>0</th>\n",
       "      <td>That game hurt.</td>\n",
       "      <td>other</td>\n",
       "      <td>[game_hurt]</td>\n",
       "      <td>[]</td>\n",
       "      <td>[DET, NOUN, VERB, PUNCT]</td>\n",
       "      <td>[that, game, hurt, .]</td>\n",
       "      <td>[that, game, hurt, .]</td>\n",
       "      <td>[det, nsubj, ROOT, punct]</td>\n",
       "      <td>[0.0, -0.4, 0.0, 0.0]</td>\n",
       "    </tr>\n",
       "    <tr>\n",
       "      <th>1</th>\n",
       "      <td>You do right, if you don't care then fuck 'em!</td>\n",
       "      <td>other</td>\n",
       "      <td>[right_care, care_fuck]</td>\n",
       "      <td>[right_care_fuck]</td>\n",
       "      <td>[PRON, VERB, ADV, PUNCT, SCONJ, PRON, AUX, PAR...</td>\n",
       "      <td>[you, do, right, ,, if, you, do, not, care, th...</td>\n",
       "      <td>[you, do, right, ,, if, you, do, not, care, th...</td>\n",
       "      <td>[nsubj, ccomp, dobj, punct, mark, nsubj, aux, ...</td>\n",
       "      <td>[0.0, 0.0, 0.2857142857142857, 0.0, 0.0, 0.0, ...</td>\n",
       "    </tr>\n",
       "    <tr>\n",
       "      <th>2</th>\n",
       "      <td>Man I love reddit.</td>\n",
       "      <td>happiness</td>\n",
       "      <td>[man_love, love_reddit]</td>\n",
       "      <td>[man_love_reddit]</td>\n",
       "      <td>[INTJ, PRON, VERB, NOUN, PUNCT]</td>\n",
       "      <td>[man, I, love, reddit, .]</td>\n",
       "      <td>[man, i, love, reddit, .]</td>\n",
       "      <td>[intj, nsubj, ROOT, dobj, punct]</td>\n",
       "      <td>[0.0, 0.0, 0.5, 0.0, 0.0]</td>\n",
       "    </tr>\n",
       "    <tr>\n",
       "      <th>3</th>\n",
       "      <td>[NAME] was nowhere near them, he was by the Fa...</td>\n",
       "      <td>other</td>\n",
       "      <td>[near_falcon]</td>\n",
       "      <td>[]</td>\n",
       "      <td>[X, NOUN, PUNCT, AUX, ADV, ADP, PRON, PUNCT, P...</td>\n",
       "      <td>[[, name, ], be, nowhere, near, they, ,, he, b...</td>\n",
       "      <td>[[, name, ], was, nowhere, near, them, ,, he, ...</td>\n",
       "      <td>[dep, dep, punct, ccomp, advmod, prep, pobj, p...</td>\n",
       "      <td>[0.0, 0.0, 0.0, 0.0, 0.0, 0.1, 0.0, 0.0, 0.0, ...</td>\n",
       "    </tr>\n",
       "    <tr>\n",
       "      <th>4</th>\n",
       "      <td>Right? Considering it’s such an important docu...</td>\n",
       "      <td>happiness</td>\n",
       "      <td>[right_consider, consider_important, important...</td>\n",
       "      <td>[right_consider_important, consider_important_...</td>\n",
       "      <td>[INTJ, PUNCT, VERB, PRON, VERB, DET, DET, ADJ,...</td>\n",
       "      <td>[right, ?, consider, it, ’, such, an, importan...</td>\n",
       "      <td>[right, ?, considering, it, 's, such, an, impo...</td>\n",
       "      <td>[ROOT, punct, csubj, nsubj, advcl, predet, det...</td>\n",
       "      <td>[0.2857142857142857, 0.0, 0.0, 0.0, 0.0, 0.0, ...</td>\n",
       "    </tr>\n",
       "  </tbody>\n",
       "</table>\n",
       "</div>"
      ],
      "text/plain": [
       "                                            sentence    emotion  \\\n",
       "0                                    That game hurt.      other   \n",
       "1     You do right, if you don't care then fuck 'em!      other   \n",
       "2                                 Man I love reddit.  happiness   \n",
       "3  [NAME] was nowhere near them, he was by the Fa...      other   \n",
       "4  Right? Considering it’s such an important docu...  happiness   \n",
       "\n",
       "                                         doc_2_grams  \\\n",
       "0                                        [game_hurt]   \n",
       "1                            [right_care, care_fuck]   \n",
       "2                            [man_love, love_reddit]   \n",
       "3                                      [near_falcon]   \n",
       "4  [right_consider, consider_important, important...   \n",
       "\n",
       "                                         doc_3_grams  \\\n",
       "0                                                 []   \n",
       "1                                  [right_care_fuck]   \n",
       "2                                  [man_love_reddit]   \n",
       "3                                                 []   \n",
       "4  [right_consider_important, consider_important_...   \n",
       "\n",
       "                                token_part_of_speech  \\\n",
       "0                           [DET, NOUN, VERB, PUNCT]   \n",
       "1  [PRON, VERB, ADV, PUNCT, SCONJ, PRON, AUX, PAR...   \n",
       "2                    [INTJ, PRON, VERB, NOUN, PUNCT]   \n",
       "3  [X, NOUN, PUNCT, AUX, ADV, ADP, PRON, PUNCT, P...   \n",
       "4  [INTJ, PUNCT, VERB, PRON, VERB, DET, DET, ADJ,...   \n",
       "\n",
       "                                    token_lemmatized  \\\n",
       "0                              [that, game, hurt, .]   \n",
       "1  [you, do, right, ,, if, you, do, not, care, th...   \n",
       "2                          [man, I, love, reddit, .]   \n",
       "3  [[, name, ], be, nowhere, near, they, ,, he, b...   \n",
       "4  [right, ?, consider, it, ’, such, an, importan...   \n",
       "\n",
       "                                    token_normalized  \\\n",
       "0                              [that, game, hurt, .]   \n",
       "1  [you, do, right, ,, if, you, do, not, care, th...   \n",
       "2                          [man, i, love, reddit, .]   \n",
       "3  [[, name, ], was, nowhere, near, them, ,, he, ...   \n",
       "4  [right, ?, considering, it, 's, such, an, impo...   \n",
       "\n",
       "                                    token_dependancy  \\\n",
       "0                          [det, nsubj, ROOT, punct]   \n",
       "1  [nsubj, ccomp, dobj, punct, mark, nsubj, aux, ...   \n",
       "2                   [intj, nsubj, ROOT, dobj, punct]   \n",
       "3  [dep, dep, punct, ccomp, advmod, prep, pobj, p...   \n",
       "4  [ROOT, punct, csubj, nsubj, advcl, predet, det...   \n",
       "\n",
       "                                     token_sentiment  \n",
       "0                              [0.0, -0.4, 0.0, 0.0]  \n",
       "1  [0.0, 0.0, 0.2857142857142857, 0.0, 0.0, 0.0, ...  \n",
       "2                          [0.0, 0.0, 0.5, 0.0, 0.0]  \n",
       "3  [0.0, 0.0, 0.0, 0.0, 0.0, 0.1, 0.0, 0.0, 0.0, ...  \n",
       "4  [0.2857142857142857, 0.0, 0.0, 0.0, 0.0, 0.0, ...  "
      ]
     },
     "execution_count": 68,
     "metadata": {},
     "output_type": "execute_result"
    }
   ],
   "source": [
    "# Read the pickle file\n",
    "features = pd.read_pickle('./Datasets/feature_extraction.pkl')\n",
    "features.head()"
   ]
  },
  {
   "cell_type": "code",
   "execution_count": 74,
   "metadata": {},
   "outputs": [],
   "source": [
    "# Concatenate all specified columns into a single feature column\n",
    "features['X'] = features['sentence'] + ' ' + \\\n",
    "                features['doc_2_grams'].map(lambda x: ' '.join(x)) + ' ' + \\\n",
    "                features['doc_3_grams'].map(lambda x: ' '.join(x)) + ' ' + \\\n",
    "                features['token_part_of_speech'].map(lambda x: ' '.join(x)) + ' ' + \\\n",
    "                features['token_lemmatized'].map(lambda x: ' '.join(x)) + ' ' + \\\n",
    "                features['token_normalized'].map(lambda x: ' '.join(x)) + ' ' + \\\n",
    "                features['token_dependancy'].map(lambda x: ' '.join(x)) + ' ' + \\\n",
    "                features['token_sentiment'].map(lambda x: ' '.join(map(str, x)))\n",
    "\n",
    "# Define features and target\n",
    "X = features['X']\n",
    "y = features['emotion']\n",
    "\n",
    "# Drop rows with NaN values in 'X_text' and corresponding 'y'\n",
    "X.dropna(inplace=True)\n",
    "y = y[X.index]"
   ]
  },
  {
   "cell_type": "code",
   "execution_count": 76,
   "metadata": {},
   "outputs": [],
   "source": [
    "# Vectorize the text data\n",
    "vectorizer = CountVectorizer()\n",
    "X_vectorized = vectorizer.fit_transform(X)"
   ]
  },
  {
   "cell_type": "code",
   "execution_count": 78,
   "metadata": {},
   "outputs": [],
   "source": [
    "# Train-test split\n",
    "X_train, X_test, y_train, y_test = train_test_split(X_vectorized, y, test_size=0.2, random_state=42)\n",
    "\n",
    "# Split the training data into training and validation sets\n",
    "X_train_split, X_val, y_train_split, y_val = train_test_split(X_train, y_train, test_size=0.2, random_state=42)"
   ]
  },
  {
   "cell_type": "code",
   "execution_count": 79,
   "metadata": {},
   "outputs": [
    {
     "name": "stderr",
     "output_type": "stream",
     "text": [
      "c:\\Users\\neilr\\anaconda3\\Lib\\site-packages\\sklearn\\linear_model\\_sag.py:350: ConvergenceWarning: The max_iter was reached which means the coef_ did not converge\n",
      "  warnings.warn(\n"
     ]
    },
    {
     "name": "stdout",
     "output_type": "stream",
     "text": [
      "Epoch 1: Validation Accuracy = 0.9374\n"
     ]
    },
    {
     "name": "stderr",
     "output_type": "stream",
     "text": [
      "c:\\Users\\neilr\\anaconda3\\Lib\\site-packages\\sklearn\\linear_model\\_sag.py:350: ConvergenceWarning: The max_iter was reached which means the coef_ did not converge\n",
      "  warnings.warn(\n"
     ]
    },
    {
     "name": "stdout",
     "output_type": "stream",
     "text": [
      "Epoch 2: Validation Accuracy = 0.9374\n"
     ]
    },
    {
     "name": "stderr",
     "output_type": "stream",
     "text": [
      "c:\\Users\\neilr\\anaconda3\\Lib\\site-packages\\sklearn\\linear_model\\_sag.py:350: ConvergenceWarning: The max_iter was reached which means the coef_ did not converge\n",
      "  warnings.warn(\n"
     ]
    },
    {
     "name": "stdout",
     "output_type": "stream",
     "text": [
      "Epoch 3: Validation Accuracy = 0.9374\n"
     ]
    },
    {
     "name": "stderr",
     "output_type": "stream",
     "text": [
      "c:\\Users\\neilr\\anaconda3\\Lib\\site-packages\\sklearn\\linear_model\\_sag.py:350: ConvergenceWarning: The max_iter was reached which means the coef_ did not converge\n",
      "  warnings.warn(\n"
     ]
    },
    {
     "name": "stdout",
     "output_type": "stream",
     "text": [
      "Epoch 4: Validation Accuracy = 0.9374\n"
     ]
    },
    {
     "name": "stderr",
     "output_type": "stream",
     "text": [
      "c:\\Users\\neilr\\anaconda3\\Lib\\site-packages\\sklearn\\linear_model\\_sag.py:350: ConvergenceWarning: The max_iter was reached which means the coef_ did not converge\n",
      "  warnings.warn(\n"
     ]
    },
    {
     "name": "stdout",
     "output_type": "stream",
     "text": [
      "Epoch 5: Validation Accuracy = 0.9374\n"
     ]
    },
    {
     "name": "stderr",
     "output_type": "stream",
     "text": [
      "c:\\Users\\neilr\\anaconda3\\Lib\\site-packages\\sklearn\\linear_model\\_sag.py:350: ConvergenceWarning: The max_iter was reached which means the coef_ did not converge\n",
      "  warnings.warn(\n"
     ]
    },
    {
     "name": "stdout",
     "output_type": "stream",
     "text": [
      "Epoch 6: Validation Accuracy = 0.9374\n",
      "Epoch 7: Validation Accuracy = 0.9374\n",
      "No improvement in validation accuracy for 5 epochs. Early stopping...\n"
     ]
    },
    {
     "name": "stderr",
     "output_type": "stream",
     "text": [
      "c:\\Users\\neilr\\anaconda3\\Lib\\site-packages\\sklearn\\linear_model\\_sag.py:350: ConvergenceWarning: The max_iter was reached which means the coef_ did not converge\n",
      "  warnings.warn(\n"
     ]
    }
   ],
   "source": [
    "# Lists to store epoch and validation accuracy\n",
    "epochs = []\n",
    "val_accuracy = []\n",
    "\n",
    "# Initialize Logistic Regression Classifier with max iterations and a solver function\n",
    "logistic_clf = LogisticRegression(C=0.1, max_iter=100, solver='sag', penalty='l2')\n",
    "\n",
    "best_accuracy = 0\n",
    "best_model = None\n",
    "patience = 5\n",
    "no_improvement_count = 0\n",
    "\n",
    "for epoch in range(100):\n",
    "    # Train the classifier\n",
    "    logistic_clf.fit(X_train_split, y_train_split)\n",
    "\n",
    "    # Validate the model\n",
    "    y_val_pred = logistic_clf.predict(X_val)\n",
    "    accuracy = accuracy_score(y_val, y_val_pred)\n",
    "\n",
    "    # Check for improvement in validation accuracy\n",
    "    if accuracy > best_accuracy:\n",
    "        best_accuracy = accuracy\n",
    "        best_model = logistic_clf\n",
    "        no_improvement_count = 0\n",
    "    else:\n",
    "        no_improvement_count += 1\n",
    "\n",
    "    print(f\"Epoch {epoch + 1}: Validation Accuracy = {accuracy:.4f}\")\n",
    "\n",
    "    # Store epoch and validation accuracy\n",
    "    epochs.append(epoch + 1)\n",
    "    val_accuracy.append(accuracy)\n",
    "\n",
    "    # Check for early stopping\n",
    "    if no_improvement_count >= patience:\n",
    "        print(f\"No improvement in validation accuracy for {patience} epochs. Early stopping...\")\n",
    "        break "
   ]
  },
  {
   "cell_type": "code",
   "execution_count": 91,
   "metadata": {},
   "outputs": [
    {
     "data": {
      "image/png": "[encoded data removed]",
      "text/plain": [
       "<Figure size 640x480 with 1 Axes>"
      ]
     },
     "metadata": {},
     "output_type": "display_data"
    }
   ],
   "source": [
    "# Plot validation accuracy over epochs\n",
    "plt.plot(epochs, val_accuracy, marker='o', linestyle='-')\n",
    "plt.title('Validation Accuracy Over Epochs')\n",
    "plt.xlabel('Epochs')\n",
    "plt.ylabel('Validation Accuracy')\n",
    "plt.grid(True)\n",
    "plt.show()"
   ]
  },
  {
   "cell_type": "code",
   "execution_count": 81,
   "metadata": {},
   "outputs": [],
   "source": [
    "# Use the best model for evaluation\n",
    "y_test_pred = best_model.predict(X_val)"
   ]
  },
  {
   "cell_type": "code",
   "execution_count": 84,
   "metadata": {},
   "outputs": [
    {
     "data": {
      "text/plain": [
       "<sklearn.metrics._plot.confusion_matrix.ConfusionMatrixDisplay at 0x222802ea690>"
      ]
     },
     "execution_count": 84,
     "metadata": {},
     "output_type": "execute_result"
    },
    {
     "data": {
      "image/png": "[encoded data removed]",
      "text/plain": [
       "<Figure size 640x480 with 2 Axes>"
      ]
     },
     "metadata": {},
     "output_type": "display_data"
    }
   ],
   "source": [
    "ConfusionMatrixDisplay.from_predictions(y_val, y_test_pred, normalize='all')"
   ]
  },
  {
   "cell_type": "code",
   "execution_count": 85,
   "metadata": {},
   "outputs": [
    {
     "name": "stdout",
     "output_type": "stream",
     "text": [
      "Validation Accuracy: 0.9373978460918434\n",
      "Validation F1 Score: 0.9367615192486958\n"
     ]
    }
   ],
   "source": [
    "# Evaluate accuracy\n",
    "accuracy_val = accuracy_score(y_val, y_val_pred)\n",
    "print(\"Validation Accuracy:\", accuracy_val)\n",
    "\n",
    "# Calculate the F1 score\n",
    "f1_val = f1_score(y_val, y_val_pred, average='weighted')\n",
    "print(\"Validation F1 Score:\", f1_val)"
   ]
  },
  {
   "cell_type": "code",
   "execution_count": 86,
   "metadata": {},
   "outputs": [
    {
     "data": {
      "text/html": [
       "<div>\n",
       "<style scoped>\n",
       "    .dataframe tbody tr th:only-of-type {\n",
       "        vertical-align: middle;\n",
       "    }\n",
       "\n",
       "    .dataframe tbody tr th {\n",
       "        vertical-align: top;\n",
       "    }\n",
       "\n",
       "    .dataframe thead th {\n",
       "        text-align: right;\n",
       "    }\n",
       "</style>\n",
       "<table border=\"1\" class=\"dataframe\">\n",
       "  <thead>\n",
       "    <tr style=\"text-align: right;\">\n",
       "      <th></th>\n",
       "      <th>id</th>\n",
       "      <th>sentence</th>\n",
       "    </tr>\n",
       "  </thead>\n",
       "  <tbody>\n",
       "    <tr>\n",
       "      <th>0</th>\n",
       "      <td>0</td>\n",
       "      <td>I get sad when I see a sick animal.</td>\n",
       "    </tr>\n",
       "    <tr>\n",
       "      <th>1</th>\n",
       "      <td>1</td>\n",
       "      <td>Getting punched in the face like that makes my...</td>\n",
       "    </tr>\n",
       "    <tr>\n",
       "      <th>2</th>\n",
       "      <td>2</td>\n",
       "      <td>I get anxious near the end of the block.</td>\n",
       "    </tr>\n",
       "    <tr>\n",
       "      <th>3</th>\n",
       "      <td>3</td>\n",
       "      <td>being awoken to a shadowy figure at the edge o...</td>\n",
       "    </tr>\n",
       "    <tr>\n",
       "      <th>4</th>\n",
       "      <td>4</td>\n",
       "      <td>I am annoyed that my brother didn't wash his d...</td>\n",
       "    </tr>\n",
       "  </tbody>\n",
       "</table>\n",
       "</div>"
      ],
      "text/plain": [
       "   id                                           sentence\n",
       "0   0                I get sad when I see a sick animal.\n",
       "1   1  Getting punched in the face like that makes my...\n",
       "2   2           I get anxious near the end of the block.\n",
       "3   3  being awoken to a shadowy figure at the edge o...\n",
       "4   4  I am annoyed that my brother didn't wash his d..."
      ]
     },
     "execution_count": 86,
     "metadata": {},
     "output_type": "execute_result"
    }
   ],
   "source": [
    "# Loading kaggle test file\n",
    "file_path = \"C:/Users/neilr/Documents/BUAS year 2/Block C/2023-24c-fai2-adsai-neildaniel221270/Kaggle/Datasets/test (1).csv\"\n",
    "test_kaggle = pd.read_csv(file_path, sep='\\t')\n",
    "test_kaggle.head()"
   ]
  },
  {
   "cell_type": "code",
   "execution_count": 87,
   "metadata": {},
   "outputs": [],
   "source": [
    "# Preprocess the text data\n",
    "X_test_kaggle = test_kaggle['sentence']\n",
    "\n",
    "# Vectorize the text data\n",
    "X_test_vectorized = vectorizer.transform(X_test_kaggle)"
   ]
  },
  {
   "cell_type": "code",
   "execution_count": 88,
   "metadata": {},
   "outputs": [],
   "source": [
    "# Predict emotions on Kaggle test set\n",
    "y_pred_kaggle_logistic = best_model.predict(X_test_vectorized)"
   ]
  },
  {
   "cell_type": "code",
   "execution_count": 89,
   "metadata": {},
   "outputs": [
    {
     "data": {
      "text/html": [
       "<div>\n",
       "<style scoped>\n",
       "    .dataframe tbody tr th:only-of-type {\n",
       "        vertical-align: middle;\n",
       "    }\n",
       "\n",
       "    .dataframe tbody tr th {\n",
       "        vertical-align: top;\n",
       "    }\n",
       "\n",
       "    .dataframe thead th {\n",
       "        text-align: right;\n",
       "    }\n",
       "</style>\n",
       "<table border=\"1\" class=\"dataframe\">\n",
       "  <thead>\n",
       "    <tr style=\"text-align: right;\">\n",
       "      <th></th>\n",
       "      <th>id</th>\n",
       "      <th>emotion</th>\n",
       "    </tr>\n",
       "  </thead>\n",
       "  <tbody>\n",
       "    <tr>\n",
       "      <th>0</th>\n",
       "      <td>0</td>\n",
       "      <td>other</td>\n",
       "    </tr>\n",
       "    <tr>\n",
       "      <th>1</th>\n",
       "      <td>1</td>\n",
       "      <td>other</td>\n",
       "    </tr>\n",
       "    <tr>\n",
       "      <th>2</th>\n",
       "      <td>2</td>\n",
       "      <td>other</td>\n",
       "    </tr>\n",
       "    <tr>\n",
       "      <th>3</th>\n",
       "      <td>3</td>\n",
       "      <td>other</td>\n",
       "    </tr>\n",
       "    <tr>\n",
       "      <th>4</th>\n",
       "      <td>4</td>\n",
       "      <td>other</td>\n",
       "    </tr>\n",
       "    <tr>\n",
       "      <th>...</th>\n",
       "      <td>...</td>\n",
       "      <td>...</td>\n",
       "    </tr>\n",
       "    <tr>\n",
       "      <th>1431</th>\n",
       "      <td>1431</td>\n",
       "      <td>happiness</td>\n",
       "    </tr>\n",
       "    <tr>\n",
       "      <th>1432</th>\n",
       "      <td>1432</td>\n",
       "      <td>other</td>\n",
       "    </tr>\n",
       "    <tr>\n",
       "      <th>1433</th>\n",
       "      <td>1433</td>\n",
       "      <td>other</td>\n",
       "    </tr>\n",
       "    <tr>\n",
       "      <th>1434</th>\n",
       "      <td>1434</td>\n",
       "      <td>happiness</td>\n",
       "    </tr>\n",
       "    <tr>\n",
       "      <th>1435</th>\n",
       "      <td>1435</td>\n",
       "      <td>other</td>\n",
       "    </tr>\n",
       "  </tbody>\n",
       "</table>\n",
       "<p>1436 rows × 2 columns</p>\n",
       "</div>"
      ],
      "text/plain": [
       "        id    emotion\n",
       "0        0      other\n",
       "1        1      other\n",
       "2        2      other\n",
       "3        3      other\n",
       "4        4      other\n",
       "...    ...        ...\n",
       "1431  1431  happiness\n",
       "1432  1432      other\n",
       "1433  1433      other\n",
       "1434  1434  happiness\n",
       "1435  1435      other\n",
       "\n",
       "[1436 rows x 2 columns]"
      ]
     },
     "execution_count": 89,
     "metadata": {},
     "output_type": "execute_result"
    }
   ],
   "source": [
    "# Create DataFrame with predictions\n",
    "predictions_logistic = pd.DataFrame({'id': test_kaggle['id'], 'emotion': y_pred_kaggle_logistic})\n",
    "predictions_logistic"
   ]
  },
  {
   "cell_type": "code",
   "execution_count": 90,
   "metadata": {},
   "outputs": [
    {
     "data": {
      "text/plain": [
       "emotion\n",
       "other        1157\n",
       "happiness     279\n",
       "Name: count, dtype: int64"
      ]
     },
     "execution_count": 90,
     "metadata": {},
     "output_type": "execute_result"
    }
   ],
   "source": [
    "# Count occurrences of each emotion\n",
    "emotion_counts_logistic = predictions_logistic['emotion'].value_counts()\n",
    "emotion_counts_logistic"
   ]
  },
  {
   "cell_type": "code",
   "execution_count": 92,
   "metadata": {},
   "outputs": [
    {
     "name": "stdout",
     "output_type": "stream",
     "text": [
      "Logistic Regression predictions have been saved to predictions_LR_8.csv\n"
     ]
    }
   ],
   "source": [
    "# Save predictions to CSV\n",
    "predictions_logistic.to_csv('./Kaggle/Datasets/predictions_LR_8.csv', index=False)\n",
    "print(\"Logistic Regression predictions have been saved to predictions_LR_8.csv\")"
   ]
  }
 ],
 "metadata": {
  "kernelspec": {
   "display_name": "base",
   "language": "python",
   "name": "python3"
  },
  "language_info": {
   "codemirror_mode": {
    "name": "ipython",
    "version": 3
   },
   "file_extension": ".py",
   "mimetype": "text/x-python",
   "name": "python",
   "nbconvert_exporter": "python",
   "pygments_lexer": "ipython3",
   "version": "3.11.3"
  }
 },
 "nbformat": 4,
 "nbformat_minor": 2
}
