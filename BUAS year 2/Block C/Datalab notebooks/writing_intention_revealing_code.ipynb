{
 "cells": [
  {
   "cell_type": "markdown",
   "metadata": {},
   "source": [
    "## 1. Choosing names"
   ]
  },
  {
   "cell_type": "code",
   "execution_count": 8,
   "metadata": {},
   "outputs": [
    {
     "data": {
      "text/plain": [
       "30.48"
      ]
     },
     "execution_count": 8,
     "metadata": {},
     "output_type": "execute_result"
    }
   ],
   "source": [
    "# Example 1.1\n",
    "def calc(a):\n",
    "    c = a * 2.54\n",
    "    return c\n",
    "\n",
    "l = 12\n",
    "calc(l)"
   ]
  },
  {
   "cell_type": "code",
   "execution_count": 9,
   "metadata": {},
   "outputs": [
    {
     "data": {
      "text/plain": [
       "30.48"
      ]
     },
     "execution_count": 9,
     "metadata": {},
     "output_type": "execute_result"
    }
   ],
   "source": [
    "# Example 1.1 - refactored\n",
    "def convert_inches_to_cm(length_in_inches):\n",
    "    inch_to_cm_multiplier = 2.54\n",
    "    length_in_cm = length_in_inches * inch_to_cm_multiplier\n",
    "    return length_in_cm\n",
    "\n",
    "length_in_inches = 12\n",
    "convert_inches_to_cm(length_in_inches)"
   ]
  },
  {
   "cell_type": "markdown",
   "metadata": {},
   "source": [
    "YOUR TURN"
   ]
  },
  {
   "cell_type": "code",
   "execution_count": 10,
   "metadata": {},
   "outputs": [
    {
     "data": {
      "text/plain": [
       "2"
      ]
     },
     "execution_count": 10,
     "metadata": {},
     "output_type": "execute_result"
    }
   ],
   "source": [
    "# Example 1.2\n",
    "def processList(x):\n",
    "    t = 0\n",
    "    for i in x:\n",
    "        if i % 2 == 0:\n",
    "            t = t + 1\n",
    "        else:\n",
    "            continue\n",
    "    return t\n",
    "\n",
    "data = [1, 2, 3, 4, 5]\n",
    "processList(data)"
   ]
  },
  {
   "cell_type": "code",
   "execution_count": 11,
   "metadata": {},
   "outputs": [
    {
     "data": {
      "text/plain": [
       "2"
      ]
     },
     "execution_count": 11,
     "metadata": {},
     "output_type": "execute_result"
    }
   ],
   "source": [
    "# Example 1.2 - Refactored\n",
    "# YOUR CODE HERE\n",
    "def countEvenNumbers(numbers_list):\n",
    "    output = 0\n",
    "    even_numbers_count =  0\n",
    "    for num in numbers_list:\n",
    "        if num % 2 == output:\n",
    "            even_numbers_count = even_numbers_count + 1\n",
    "        else:\n",
    "            continue\n",
    "    return even_numbers_count\n",
    "    \n",
    "data = [1, 2, 3, 4, 5]\n",
    "countEvenNumbers(data)"
   ]
  },
  {
   "cell_type": "markdown",
   "metadata": {},
   "source": [
    "# Encapsulation"
   ]
  },
  {
   "cell_type": "markdown",
   "metadata": {},
   "source": [
    "## 2. Extract Method"
   ]
  },
  {
   "cell_type": "code",
   "execution_count": 12,
   "metadata": {},
   "outputs": [
    {
     "name": "stdout",
     "output_type": "stream",
     "text": [
      "Number of floors: 3\n",
      "Area of the house: 360 square units\n",
      "Total price of the house: $7200\n"
     ]
    }
   ],
   "source": [
    "# Example 2.1\n",
    "def print_house_properties(floors, length, width, price_per_unit_area):\n",
    "    single_floor_area = length * width\n",
    "    total_area = floors * single_floor_area\n",
    "    total_price = total_area * price_per_unit_area\n",
    "\n",
    "    print(f\"Number of floors: {floors}\")\n",
    "    print(f\"Area of the house: {total_area} square units\")\n",
    "    print(f\"Total price of the house: ${total_price}\")\n",
    "\n",
    "print_house_properties(3, 15, 8, 20)"
   ]
  },
  {
   "cell_type": "code",
   "execution_count": 13,
   "metadata": {},
   "outputs": [
    {
     "name": "stdout",
     "output_type": "stream",
     "text": [
      "Number of floors: 3\n",
      "Area of the house: 360 square units\n",
      "Total price of the house: $7200\n"
     ]
    }
   ],
   "source": [
    "# Example 2.1 - Refactored\n",
    "def calculate_square_units(length, width, floors):\n",
    "    return length * width * floors\n",
    "\n",
    "def calculate_price(area, price_per_unit_area):\n",
    "    return area * price_per_unit_area\n",
    "\n",
    "def print_house_properties(floors, length, width, price_per_unit_area):\n",
    "    print(f\"Number of floors: {floors}\")\n",
    "\n",
    "    total_square_units = calculate_square_units(length, width, floors)\n",
    "    print(f\"Area of the house: {total_square_units} square units\")\n",
    "\n",
    "    total_price = calculate_price(total_square_units, price_per_unit_area)\n",
    "    print(f\"Total price of the house: ${total_price}\")\n",
    "\n",
    "print_house_properties(3, 15, 8, 20)"
   ]
  },
  {
   "cell_type": "markdown",
   "metadata": {},
   "source": [
    "YOUR TURN"
   ]
  },
  {
   "cell_type": "code",
   "execution_count": 14,
   "metadata": {},
   "outputs": [
    {
     "data": {
      "text/plain": [
       "14.5"
      ]
     },
     "execution_count": 14,
     "metadata": {},
     "output_type": "execute_result"
    }
   ],
   "source": [
    "# Example 2.2\n",
    "def calculate_order_price(basket_price, basket_weight, customer_years):\n",
    "    discount = 0\n",
    "    if customer_years > 5:\n",
    "        discount = basket_price * 0.1\n",
    "    elif customer_years > 2:\n",
    "        discount = basket_price * 0.05\n",
    "\n",
    "    shipping_fee = 0\n",
    "    if basket_weight > 20:\n",
    "        shipping_fee = 20\n",
    "    elif basket_weight > 10:\n",
    "        shipping_fee = 10\n",
    "    else:\n",
    "        shipping_fee = 5\n",
    "\n",
    "    total_price = basket_price - discount + shipping_fee\n",
    "    return total_price\n",
    "\n",
    "calculate_order_price(10, 1, 3)"
   ]
  },
  {
   "cell_type": "code",
   "execution_count": 15,
   "metadata": {},
   "outputs": [
    {
     "data": {
      "text/plain": [
       "14.5"
      ]
     },
     "execution_count": 15,
     "metadata": {},
     "output_type": "execute_result"
    }
   ],
   "source": [
    "# Example 2.2 - Refactored\n",
    "# YOUR CODE HERE\n",
    "def calc_discount(basket_price, customer_years):\n",
    "    discount = 0\n",
    "    if customer_years > 5:\n",
    "        discount = basket_price * 0.1\n",
    "    elif customer_years > 2:\n",
    "        discount = basket_price * 0.05\n",
    "    return discount\n",
    "\n",
    "def calc_shipping_fee(basket_weight):\n",
    "    shipping_fee = 0\n",
    "    if basket_weight > 20:\n",
    "        shipping_fee = 20\n",
    "    elif basket_weight > 10:\n",
    "        shipping_fee = 10\n",
    "    else:\n",
    "        shipping_fee = 5\n",
    "    return shipping_fee\n",
    "\n",
    "def calc_total_prince(basket_price, basket_weight, customer_years):\n",
    "    discount = calc_discount(basket_price, customer_years)\n",
    "    shipping_fee = calc_shipping_fee(basket_weight)\n",
    "    total_price = basket_price - discount + shipping_fee\n",
    "    return total_price\n",
    "\n",
    "total_price = calc_total_prince(10, 1, 3)\n",
    "total_price\n"
   ]
  },
  {
   "cell_type": "markdown",
   "metadata": {},
   "source": [
    "## 3. One Level of Indentation"
   ]
  },
  {
   "cell_type": "code",
   "execution_count": 16,
   "metadata": {},
   "outputs": [
    {
     "data": {
      "text/plain": [
       "50"
      ]
     },
     "execution_count": 16,
     "metadata": {},
     "output_type": "execute_result"
    }
   ],
   "source": [
    "# Example 3.1\n",
    "def calculate_shipping_cost(destination, weight):\n",
    "    cost = 0\n",
    "    if destination == 'USA':\n",
    "        if weight > 5:\n",
    "            cost = 20\n",
    "        else:\n",
    "            cost = 15\n",
    "    elif destination == 'Europe':\n",
    "        if weight > 5:\n",
    "            cost = 30\n",
    "        else:\n",
    "            cost = 25\n",
    "    else:\n",
    "        if weight > 5:\n",
    "            cost = 50\n",
    "        else:\n",
    "            cost = 40\n",
    "    \n",
    "    return cost\n",
    "\n",
    "calculate_shipping_cost(\"Japan\", 8)"
   ]
  },
  {
   "cell_type": "code",
   "execution_count": 17,
   "metadata": {},
   "outputs": [
    {
     "data": {
      "text/plain": [
       "50"
      ]
     },
     "execution_count": 17,
     "metadata": {},
     "output_type": "execute_result"
    }
   ],
   "source": [
    "# Example 3.1 - Refactored\n",
    "def calculate_shipping_cost_to_usa(weight):\n",
    "    cost = 0\n",
    "    if weight > 5:\n",
    "        cost = 20\n",
    "    else:\n",
    "        cost = 15\n",
    "    \n",
    "    return cost\n",
    "\n",
    "def calculate_shipping_cost_to_europe(weight):\n",
    "    cost = 0\n",
    "    if weight > 5:\n",
    "        cost = 30\n",
    "    else:\n",
    "        cost = 25\n",
    "    \n",
    "    return cost\n",
    "\n",
    "def calculate_shipping_cost_to_rest(weight):\n",
    "    cost = 0\n",
    "    if weight > 5:\n",
    "        cost = 50\n",
    "    else:\n",
    "        cost = 40\n",
    "    \n",
    "    return cost\n",
    "\n",
    "def calculate_shipping_cost(destination, weight):\n",
    "    cost = 0\n",
    "    if destination == 'USA':\n",
    "        cost = calculate_shipping_cost_to_usa(weight)\n",
    "    elif destination == 'Europe':\n",
    "        cost = calculate_shipping_cost_to_europe(weight)\n",
    "    else:\n",
    "        cost = calculate_shipping_cost_to_rest(weight)\n",
    "    \n",
    "    return cost\n",
    "\n",
    "calculate_shipping_cost(\"Japan\", 8)"
   ]
  },
  {
   "cell_type": "markdown",
   "metadata": {},
   "source": [
    "YOUR TURN"
   ]
  },
  {
   "cell_type": "code",
   "execution_count": 18,
   "metadata": {},
   "outputs": [
    {
     "data": {
      "text/plain": [
       "2"
      ]
     },
     "execution_count": 18,
     "metadata": {},
     "output_type": "execute_result"
    }
   ],
   "source": [
    "# Example 3.2\n",
    "def calculate_salary_multiplier(employee_level, years_of_experience):\n",
    "    multiplier = 0\n",
    "    if employee_level == \"junior\":\n",
    "        if years_of_experience > 3:\n",
    "            multiplier = 1.2\n",
    "        elif years_of_experience > 1:\n",
    "            multiplier = 1.1\n",
    "        else:\n",
    "            multiplier = 1\n",
    "    elif employee_level == \"mid\":\n",
    "        if years_of_experience > 7:\n",
    "            multiplier = 1.5\n",
    "        else:\n",
    "            multiplier = 1.4\n",
    "    else:\n",
    "        if years_of_experience > 12:\n",
    "            multiplier = 2\n",
    "        else:\n",
    "            multiplier = 1.8\n",
    "    \n",
    "    return multiplier\n",
    "\n",
    "calculate_salary_multiplier(\"senior\", 18)"
   ]
  },
  {
   "cell_type": "code",
   "execution_count": 19,
   "metadata": {},
   "outputs": [
    {
     "data": {
      "text/plain": [
       "2"
      ]
     },
     "execution_count": 19,
     "metadata": {},
     "output_type": "execute_result"
    }
   ],
   "source": [
    "# Example 3.2 - Refactored\n",
    "# YOUR CODE HERE\n",
    "def calc_multiplier_junior(years_of_experience):\n",
    "    if years_of_experience > 3:\n",
    "        multiplier = 1.2\n",
    "    elif years_of_experience > 1:\n",
    "        multiplier = 1.1\n",
    "    else:\n",
    "        multiplier = 1\n",
    "    return multiplier\n",
    "\n",
    "def calc_multiplier_mid(years_of_experience):\n",
    "    if years_of_experience > 7:\n",
    "        multiplier = 1.5\n",
    "    else:\n",
    "        multiplier = 1.4\n",
    "    return multiplier\n",
    "\n",
    "def calculate_multiplier_senior( years_of_experience):\n",
    "    if years_of_experience > 12:\n",
    "        multiplier = 2\n",
    "    else:\n",
    "        multiplier = 1.8\n",
    "    return multiplier\n",
    "\n",
    "def calculate_salary_multiplier(employee_level, years_of_experience):\n",
    "    multiplier = 0\n",
    "    if employee_level == \"junior\":\n",
    "        multiplier = calc_multiplier_junior(years_of_experience)\n",
    "    elif employee_level == \"mid\":\n",
    "        multiplier = calc_multiplier_mid(years_of_experience)\n",
    "    elif employee_level == \"senior\":\n",
    "        multiplier = calculate_multiplier_senior(years_of_experience) \n",
    "    return multiplier\n",
    "\n",
    "calculate_salary_multiplier(\"senior\", 18)"
   ]
  },
  {
   "cell_type": "markdown",
   "metadata": {},
   "source": [
    "## 4. Don't use ELSE keyword (Early Returns)"
   ]
  },
  {
   "cell_type": "code",
   "execution_count": 20,
   "metadata": {},
   "outputs": [
    {
     "data": {
      "text/plain": [
       "'Authentication successful'"
      ]
     },
     "execution_count": 20,
     "metadata": {},
     "output_type": "execute_result"
    }
   ],
   "source": [
    "# Example 4.1\n",
    "def authenticate_user(username, password, account_locked):\n",
    "    if username != \"\":\n",
    "        if password != \"\":\n",
    "            if account_locked == False:\n",
    "                stored_username = \"user123\"\n",
    "                stored_password = \"pass123\"\n",
    "                if username == stored_username:\n",
    "                    if password == stored_password:\n",
    "                        message = \"Authentication successful\"\n",
    "                    else:\n",
    "                        message = \"Authentication failed: incorrect password\"\n",
    "                else:\n",
    "                    message = \"Authentication failed: username not found\"\n",
    "            else:\n",
    "                message = \"Account is locked\"\n",
    "        else:\n",
    "            message = \"No password provided\"\n",
    "    else:\n",
    "        message = \"No username provided\"\n",
    "    \n",
    "    return message\n",
    "\n",
    "authenticate_user(\"user123\", \"pass123\", False)"
   ]
  },
  {
   "cell_type": "code",
   "execution_count": 21,
   "metadata": {},
   "outputs": [
    {
     "data": {
      "text/plain": [
       "'Authentication successful'"
      ]
     },
     "execution_count": 21,
     "metadata": {},
     "output_type": "execute_result"
    }
   ],
   "source": [
    "# Example 4.1 - Refactored\n",
    "def authenticate_user(username, password, account_locked):\n",
    "    if username == \"\":\n",
    "        return \"No username provided\"\n",
    "    if password == \"\":\n",
    "        return \"No password provided\"\n",
    "    if account_locked == True:\n",
    "        return \"Account is locked\"\n",
    "    \n",
    "    stored_username = \"user123\"\n",
    "    stored_password = \"pass123\"\n",
    "    if username != stored_username:\n",
    "        return \"Authentication failed: username not found\"\n",
    "    if password != stored_password:\n",
    "        return \"Authentication failed: incorrect password\"\n",
    "    return \"Authentication successful\"\n",
    "\n",
    "authenticate_user(\"user123\", \"pass123\", False)"
   ]
  },
  {
   "cell_type": "markdown",
   "metadata": {},
   "source": [
    "YOUR TURN"
   ]
  },
  {
   "cell_type": "code",
   "execution_count": 22,
   "metadata": {},
   "outputs": [
    {
     "data": {
      "text/plain": [
       "71.0"
      ]
     },
     "execution_count": 22,
     "metadata": {},
     "output_type": "execute_result"
    }
   ],
   "source": [
    "# Example 4.2\n",
    "def calculate_final_score(test_scores, assignment_scores, extra_credit):\n",
    "    if len(test_scores) > 0:\n",
    "        average_test_score = sum(test_scores) / len(test_scores)\n",
    "        if len(assignment_scores) > 0:\n",
    "            average_assignment_score = sum(assignment_scores) / len(assignment_scores)\n",
    "            if extra_credit:\n",
    "                final_score = (average_test_score * 0.7) + (average_assignment_score * 0.3) + 5\n",
    "            else:\n",
    "                final_score = (average_test_score * 0.7) + (average_assignment_score * 0.3)\n",
    "        else:\n",
    "            final_score = \"No assignment scores provided\"\n",
    "    else:\n",
    "        final_score = \"No test scores provided\"\n",
    "    return final_score\n",
    "\n",
    "calculate_final_score([80, 70, 30], [60, 100], True)"
   ]
  },
  {
   "cell_type": "code",
   "execution_count": 23,
   "metadata": {},
   "outputs": [
    {
     "data": {
      "text/plain": [
       "71.0"
      ]
     },
     "execution_count": 23,
     "metadata": {},
     "output_type": "execute_result"
    }
   ],
   "source": [
    "# Example 4.2 - Refactored\n",
    "# YOUR CODE HERE\n",
    "def calculate_final_score(test_scores, assignment_scores, extra_credit):\n",
    "    if len(test_scores) == 0:\n",
    "        return  \"No test scores provided\"\n",
    "    average_test_score = sum(test_scores) / len(test_scores)\n",
    "    if len(assignment_scores) == 0:\n",
    "        return  \"No assignment scores provided\"\n",
    "    average_assignment_score = sum(assignment_scores) / len(assignment_scores)\n",
    "    final_score = (average_test_score * 0.7) + (average_assignment_score * 0.3)\n",
    "    if extra_credit == True:\n",
    "        return final_score + 5\n",
    "    return final_score\n",
    "\n",
    "calculate_final_score([80, 70, 30], [60, 100], True)"
   ]
  },
  {
   "cell_type": "markdown",
   "metadata": {},
   "source": [
    "# Everything is an object!"
   ]
  },
  {
   "cell_type": "code",
   "execution_count": 24,
   "metadata": {},
   "outputs": [
    {
     "name": "stdout",
     "output_type": "stream",
     "text": [
      "Type: <class 'int'>\n",
      "ID: 140706911130536\n",
      "\n",
      "Type: <class 'list'>\n",
      "Length: 5\n",
      "\n",
      "Type: <class 'str'>\n",
      "Length: 13\n",
      "HELLO, WORLD!\n",
      "\n",
      "Type: <class 'function'>\n"
     ]
    }
   ],
   "source": [
    "x = 5\n",
    "print(\"Type:\", type(x))\n",
    "print(\"ID:\", id(x))\n",
    "print(\"\")\n",
    "\n",
    "l = [1, 2, 3, 4, 5]\n",
    "print(\"Type:\", type(l))\n",
    "print(\"Length:\", len(l))\n",
    "print(\"\")\n",
    "\n",
    "s = \"Hello, World!\"\n",
    "print(\"Type:\", type(s))\n",
    "print(\"Length:\", len(s))\n",
    "print(s.upper())\n",
    "print(\"\")\n",
    "\n",
    "def add(a, b):\n",
    "    return a + b\n",
    "print(\"Type:\", type(add))"
   ]
  },
  {
   "cell_type": "markdown",
   "metadata": {},
   "source": [
    "## 5. Use functions to pass messages"
   ]
  },
  {
   "cell_type": "code",
   "execution_count": 25,
   "metadata": {},
   "outputs": [
    {
     "data": {
      "text/plain": [
       "12500"
      ]
     },
     "execution_count": 25,
     "metadata": {},
     "output_type": "execute_result"
    }
   ],
   "source": [
    "# Example 5.1\n",
    "def extra_pay(seniority, months_disabled, is_full_time):\n",
    "    pay = 0\n",
    "    if months_disabled > 3 and months_disabled < 12 and seniority > 2 and is_full_time:\n",
    "        pay = pay + 5000\n",
    "    if seniority > 10 and is_full_time:\n",
    "        pay = pay + 7500\n",
    "    if seniority > 20 and not is_full_time:\n",
    "        pay = pay + 3000\n",
    "    \n",
    "    return pay\n",
    "\n",
    "extra_pay(11, 6, True)"
   ]
  },
  {
   "cell_type": "code",
   "execution_count": 26,
   "metadata": {},
   "outputs": [
    {
     "data": {
      "text/plain": [
       "12500"
      ]
     },
     "execution_count": 26,
     "metadata": {},
     "output_type": "execute_result"
    }
   ],
   "source": [
    "# Example 5.1 - Refactored\n",
    "def is_eligible_for_disability(seniority, months_disabled, is_full_time):\n",
    "    return months_disabled > 3 and months_disabled < 12 and seniority > 2 and is_full_time\n",
    "\n",
    "def is_eligible_for_full_time_seniority(seniority, is_full_time):\n",
    "    return seniority > 10 and is_full_time\n",
    "\n",
    "def is_eligible_for_part_time_seniority(seniority, is_full_time):\n",
    "    return seniority > 20 and not is_full_time\n",
    "\n",
    "def extra_pay(seniority, months_disabled, is_full_time):\n",
    "    pay = 0\n",
    "    if is_eligible_for_disability(seniority, months_disabled, is_full_time):\n",
    "        pay = pay + 5000\n",
    "    if is_eligible_for_full_time_seniority(seniority, is_full_time):\n",
    "        pay = pay + 7500\n",
    "    if is_eligible_for_part_time_seniority(seniority, is_full_time):\n",
    "        pay = pay + 3000\n",
    "    \n",
    "    return pay\n",
    "\n",
    "extra_pay(11, 6, True)"
   ]
  },
  {
   "cell_type": "markdown",
   "metadata": {},
   "source": [
    "YOUR TURN"
   ]
  },
  {
   "cell_type": "code",
   "execution_count": 27,
   "metadata": {},
   "outputs": [
    {
     "data": {
      "text/plain": [
       "90"
      ]
     },
     "execution_count": 27,
     "metadata": {},
     "output_type": "execute_result"
    }
   ],
   "source": [
    "# Example 5.2\n",
    "def extra_daily_cost(month, vacation_type):\n",
    "    cost = 0\n",
    "    if (month > 5 and month < 10) and vacation_type == \"beach\":\n",
    "        cost = cost + 50\n",
    "    if (month > 11 or month < 4) and vacation_type == \"mountain\":\n",
    "        cost = cost + 75\n",
    "    if month == 12:\n",
    "        cost = cost + 15\n",
    "    \n",
    "    return cost\n",
    "\n",
    "extra_daily_cost(12, \"mountain\")"
   ]
  },
  {
   "cell_type": "code",
   "execution_count": 28,
   "metadata": {},
   "outputs": [
    {
     "data": {
      "text/plain": [
       "90"
      ]
     },
     "execution_count": 28,
     "metadata": {},
     "output_type": "execute_result"
    }
   ],
   "source": [
    "# Example 5.2 - Refactored\n",
    "def is_beach_season(month):\n",
    "    return month > 5 and month < 10\n",
    "\n",
    "def is_mountain_season(month):\n",
    "    return month > 11 or month < 4\n",
    "\n",
    "def extra_daily_cost(month, vacation_type):\n",
    "    cost = 0\n",
    "    if is_beach_season(month) and vacation_type == \"beach\":\n",
    "        cost += 50\n",
    "    if is_mountain_season(month) and vacation_type == \"mountain\":\n",
    "        cost += 75\n",
    "    if month == 12:\n",
    "        cost += 15\n",
    "    \n",
    "    return cost\n",
    "\n",
    "extra_daily_cost(12, \"mountain\")"
   ]
  },
  {
   "cell_type": "markdown",
   "metadata": {},
   "source": [
    "## 6. Use data structures to pass messages"
   ]
  },
  {
   "cell_type": "code",
   "execution_count": 29,
   "metadata": {},
   "outputs": [
    {
     "data": {
      "text/plain": [
       "'George Orwell'"
      ]
     },
     "execution_count": 29,
     "metadata": {},
     "output_type": "execute_result"
    }
   ],
   "source": [
    "# Example 6.1\n",
    "def find_author(book_title, library_catalog):\n",
    "    for section in library_catalog:\n",
    "        for book in library_catalog[section]:\n",
    "            if book[\"title\"] == book_title:\n",
    "                return book[\"author\"]\n",
    "    return None\n",
    "\n",
    "catalog = {\n",
    "    \"Fiction\": [\n",
    "        {\"title\": \"To Kill a Mockingbird\", \"author\": \"Harper Lee\", \"pages\": 336},\n",
    "        {\"title\": \"1984\", \"author\": \"George Orwell\", \"pages\": 328},\n",
    "        {\"title\": \"The Great Gatsby\", \"author\": \"F. Scott Fitzgerald\", \"pages\": 180}\n",
    "    ],\n",
    "    \"Non-Fiction\": [\n",
    "        {\"title\": \"Sapiens: A Brief History of Humankind\", \"author\": \"Yuval Noah Harari\", \"pages\": 443},\n",
    "        {\"title\": \"The Subtle Art of Not Giving an F\", \"author\": \"Mark Manson\", \"pages\": 224},\n",
    "        {\"title\": \"Educated: A Memoir\", \"author\": \"Tara Westover\", \"pages\": 352},\n",
    "        {\"title\": \"Becoming\", \"author\": \"Michelle Obama\", \"pages\": 448}\n",
    "    ],\n",
    "    \"Poetry\": [\n",
    "        {\"title\": \"Leaves of Grass\", \"author\": \"Walt Whitman\", \"pages\": 155},\n",
    "        {\"title\": \"The Waste Land\", \"author\": \"T.S. Eliot\", \"pages\": 88}\n",
    "    ]\n",
    "}\n",
    "\n",
    "find_author(\"1984\", catalog)"
   ]
  },
  {
   "cell_type": "code",
   "execution_count": 30,
   "metadata": {},
   "outputs": [
    {
     "data": {
      "text/plain": [
       "'George Orwell'"
      ]
     },
     "execution_count": 30,
     "metadata": {},
     "output_type": "execute_result"
    }
   ],
   "source": [
    "# Example 6.1 - Refactored\n",
    "from dataclasses import dataclass\n",
    "\n",
    "@dataclass\n",
    "class Book:\n",
    "    title: str\n",
    "    author: str\n",
    "    pages: int\n",
    "\n",
    "def find_author(book_title, library_catalog):\n",
    "    for section in library_catalog:\n",
    "        for book in library_catalog[section]:\n",
    "            if book.title == book_title:\n",
    "                return book.author\n",
    "    return None\n",
    "\n",
    "catalog = {\n",
    "    \"Fiction\": [\n",
    "        Book(\"To Kill a Mockingbird\", \"Harper Lee\", 336),\n",
    "        Book(\"1984\", \"George Orwell\", 328),\n",
    "        Book(\"The Great Gatsby\", \"F. Scott Fitzgerald\", 180)\n",
    "    ],\n",
    "    \"Non-Fiction\": [\n",
    "        Book(\"Sapiens: A Brief History of Humankind\", \"Yuval Noah Harari\", 443),\n",
    "        Book(\"The Subtle Art of Not Giving an F\", \"Mark Manson\", 224),\n",
    "        Book(\"Educated: A Memoir\", \"Tara Westover\", 352),\n",
    "        Book(\"Becoming\", \"Michelle Obama\", 448)\n",
    "    ],\n",
    "    \"Poetry\": [\n",
    "        Book(\"Leaves of Grass\", \"Walt Whitman\", 155),\n",
    "        Book(\"The Waste Land\", \"T.S. Eliot\", 88)\n",
    "    ]\n",
    "}\n",
    "\n",
    "find_author(\"1984\", catalog)"
   ]
  },
  {
   "cell_type": "markdown",
   "metadata": {},
   "source": [
    "YOUR TURN"
   ]
  },
  {
   "cell_type": "code",
   "execution_count": 31,
   "metadata": {},
   "outputs": [
    {
     "name": "stdout",
     "output_type": "stream",
     "text": [
      "Jack is a grown-up and 19 years old\n",
      "Alice is a grown-up and 25 years old\n",
      "Bob is a grown-up and 30 years old\n",
      "Charlie is a grown-up and 28 years old\n",
      "David is a grown-up and 45 years old\n",
      "Emma is a grown-up and 32 years old\n"
     ]
    }
   ],
   "source": [
    "# Example 6.2\n",
    "def print_grownups(people_list):\n",
    "    for person in people_list:\n",
    "        if person['age'] > 18:\n",
    "            print(f\"{person['name']} is a grown-up and {person['age']} years old\")\n",
    "\n",
    "people = [\n",
    "    {\"name\": \"Jack\", \"age\": 19},\n",
    "    {\"name\": \"Alice\", \"age\": 25},\n",
    "    {\"name\": \"Bob\", \"age\": 30},\n",
    "    {\"name\": \"Charlie\", \"age\": 28},\n",
    "    {\"name\": \"David\", \"age\": 45},\n",
    "    {\"name\": \"Emma\", \"age\": 32},\n",
    "    {\"name\": \"Grace\", \"age\": 15},\n",
    "    {\"name\": \"Hannah\", \"age\": 12},\n",
    "    {\"name\": \"Ivy\", \"age\": 17},\n",
    "    {\"name\": \"James\", \"age\": 14}\n",
    "]\n",
    "print_grownups(people)"
   ]
  },
  {
   "cell_type": "code",
   "execution_count": 32,
   "metadata": {},
   "outputs": [
    {
     "name": "stdout",
     "output_type": "stream",
     "text": [
      "Jack is a grown-up and 19 years old\n",
      "Alice is a grown-up and 25 years old\n",
      "Bob is a grown-up and 30 years old\n",
      "Charlie is a grown-up and 28 years old\n",
      "David is a grown-up and 45 years old\n",
      "Emma is a grown-up and 32 years old\n"
     ]
    }
   ],
   "source": [
    "# Example 6.2 - Refactored\n",
    "def print_grownups(people_list):\n",
    "    for person in people_list:\n",
    "        if person.age > 18:\n",
    "            print(f\"{person.name} is a grown-up and {person.age} years old\")\n",
    "\n",
    "@dataclass\n",
    "class Person:\n",
    "    name: str\n",
    "    age: int\n",
    "    \n",
    "people = [\n",
    "    Person(\"Jack\", 19),\n",
    "    Person(\"Alice\", 25),\n",
    "    Person(\"Bob\", 30),\n",
    "    Person(\"Charlie\", 28),\n",
    "    Person(\"David\", 45),\n",
    "    Person(\"Emma\", 32),\n",
    "    Person(\"Grace\", 15),\n",
    "    Person(\"Hannah\", 12),\n",
    "    Person(\"Ivy\", 17),\n",
    "    Person(\"James\", 14)\n",
    "]\n",
    "print_grownups(people)"
   ]
  },
  {
   "cell_type": "markdown",
   "metadata": {},
   "source": [
    "## 7. Wrap Primitives"
   ]
  },
  {
   "cell_type": "code",
   "execution_count": 33,
   "metadata": {},
   "outputs": [
    {
     "data": {
      "text/plain": [
       "False"
      ]
     },
     "execution_count": 33,
     "metadata": {},
     "output_type": "execute_result"
    }
   ],
   "source": [
    "# Example 7.1\n",
    "def is_new_years_eve(month, day):\n",
    "    if month != 12:\n",
    "        return False\n",
    "    if day != 31:\n",
    "        return False\n",
    "    return True\n",
    "\n",
    "is_new_years_eve(12, 31)\n",
    "is_new_years_eve(31, 12)"
   ]
  },
  {
   "cell_type": "code",
   "execution_count": 34,
   "metadata": {},
   "outputs": [
    {
     "data": {
      "text/plain": [
       "True"
      ]
     },
     "execution_count": 34,
     "metadata": {},
     "output_type": "execute_result"
    }
   ],
   "source": [
    "# Example 7.1 - Refactored\n",
    "from dataclasses import dataclass\n",
    "\n",
    "@dataclass\n",
    "class Calendar:\n",
    "    day: int\n",
    "    month: int\n",
    "\n",
    "def is_new_years_eve(calendar):\n",
    "    if calendar.month != 12:\n",
    "        return False\n",
    "    if calendar.day != 31:\n",
    "        return False\n",
    "    return True\n",
    "\n",
    "is_new_years_eve(Calendar(day=31, month=12))\n",
    "is_new_years_eve(Calendar(month=12, day=31))"
   ]
  },
  {
   "cell_type": "markdown",
   "metadata": {},
   "source": [
    "YOUR TURN"
   ]
  },
  {
   "cell_type": "code",
   "execution_count": 35,
   "metadata": {},
   "outputs": [
    {
     "name": "stdout",
     "output_type": "stream",
     "text": [
      "['-', '-', '-', '-', '-', '-', '-', '-', '-', '-']\n",
      "['-', '-', '-', '-', '-', '-', '-', '-', '-', '-']\n",
      "['-', '-', '-', '-', '-', '-', '-', '-', '-', '-']\n",
      "['-', '-', '-', '-', '-', '-', '-', '-', '-', '-']\n",
      "['-', '-', '-', '-', '-', '-', '-', '-', '-', '-']\n",
      "['-', '-', '-', '-', '-', '-', '-', '-', '-', '-']\n",
      "['-', '-', '-', '-', '-', '-', '-', '-', '-', '-']\n",
      "['-', '-', '-', '-', '-', '-', '-', '-', '-', '-']\n",
      "['-', '-', '-', '-', '-', '-', '-', '-', '-', '-']\n",
      "['O', '-', '-', '-', '-', '-', '-', '-', '-', '-']\n"
     ]
    }
   ],
   "source": [
    "# Example 7.2\n",
    "def load_matrix(rows, cols):\n",
    "    return [['-' for _ in range(cols)] for _ in range(rows)]\n",
    "\n",
    "def print_matrix(matrix):\n",
    "    for row in matrix:\n",
    "        print(row)\n",
    "\n",
    "def mark_point(x, y):\n",
    "    matrix = load_matrix(10, 10)\n",
    "    matrix[x][y] = \"O\"\n",
    "    print_matrix(matrix)\n",
    "\n",
    "#mark_point(0, 9)\n",
    "mark_point(9, 0)\n"
   ]
  },
  {
   "cell_type": "code",
   "execution_count": 50,
   "metadata": {},
   "outputs": [
    {
     "name": "stdout",
     "output_type": "stream",
     "text": [
      "['-', '-', '-', '-', '-', '-', '-', '-', '-', '-']\n",
      "['-', '-', '-', '-', '-', '-', '-', '-', '-', '-']\n",
      "['-', '-', '-', '-', '-', '-', '-', '-', '-', '-']\n",
      "['-', '-', '-', '-', '-', '-', '-', '-', '-', '-']\n",
      "['-', '-', '-', '-', '-', '-', '-', '-', '-', '-']\n",
      "['-', '-', '-', '-', '-', '-', '-', '-', '-', '-']\n",
      "['-', '-', '-', '-', '-', '-', '-', '-', '-', '-']\n",
      "['-', '-', '-', '-', '-', '-', '-', '-', '-', '-']\n",
      "['-', '-', '-', '-', '-', '-', '-', '-', '-', '-']\n",
      "['O', '-', '-', '-', '-', '-', '-', '-', '-', '-']\n"
     ]
    }
   ],
   "source": [
    "# Example 7.2 - Refactored\n",
    "from typing import List\n",
    "@dataclass\n",
    "class Matrix:\n",
    "    data: List[List[str]]\n",
    "\n",
    "def load_matrix(rows, cols):\n",
    "    return Matrix(data=[['-' for _ in range(cols)] for _ in range(rows)])\n",
    "\n",
    "def print_matrix(matrix):\n",
    "    for row in matrix.data:\n",
    "        print(row)\n",
    "\n",
    "def mark_point(matrix, x, y):\n",
    "    matrix.data[x][y] = \"O\"\n",
    "    print_matrix(matrix)\n",
    "\n",
    "# Example usage:\n",
    "matrix = load_matrix(10, 10)\n",
    "mark_point(matrix, 9, 0)"
   ]
  },
  {
   "cell_type": "markdown",
   "metadata": {},
   "source": [
    "# Polymorphism"
   ]
  },
  {
   "cell_type": "code",
   "execution_count": 51,
   "metadata": {},
   "outputs": [
    {
     "name": "stdout",
     "output_type": "stream",
     "text": [
      "Type: <class '__main__.Duck'>\n",
      "Quack\n",
      "Type: <class '__main__.Person'>\n",
      "I'm quacking like a duck!\n"
     ]
    }
   ],
   "source": [
    "class Duck:\n",
    "    def quack(self):\n",
    "        print(\"Quack\")\n",
    "\n",
    "class Person:\n",
    "    def quack(self):\n",
    "        print(\"I'm quacking like a duck!\")\n",
    "\n",
    "def make_sound(entity):\n",
    "    entity.quack()\n",
    "\n",
    "duck = Duck()\n",
    "person = Person()\n",
    "\n",
    "print(\"Type:\", type(duck))\n",
    "make_sound(duck)\n",
    "\n",
    "print(\"Type:\", type(person))\n",
    "make_sound(person)\n"
   ]
  },
  {
   "cell_type": "markdown",
   "metadata": {},
   "source": [
    "## 8. Polymorphic Objects"
   ]
  },
  {
   "cell_type": "code",
   "execution_count": 52,
   "metadata": {},
   "outputs": [
    {
     "name": "stdout",
     "output_type": "stream",
     "text": [
      "Engine started\n",
      "No engine to start, pedaling instead\n",
      "Engine started, ready to sail\n"
     ]
    }
   ],
   "source": [
    "# Example 8.1\n",
    "def start_engine(vehicle):\n",
    "    if vehicle == \"car\":\n",
    "        print(\"Engine started\")\n",
    "    if vehicle == \"bike\":\n",
    "        print(\"No engine to start, pedaling instead\")\n",
    "    if vehicle == \"boat\":\n",
    "        print(\"Engine started, ready to sail\")\n",
    "\n",
    "start_engine(\"car\")\n",
    "start_engine(\"bike\")\n",
    "start_engine(\"boat\")"
   ]
  },
  {
   "cell_type": "code",
   "execution_count": 39,
   "metadata": {},
   "outputs": [
    {
     "name": "stdout",
     "output_type": "stream",
     "text": [
      "Engine started\n",
      "No engine to start, pedaling instead\n",
      "Engine started, ready to sail\n"
     ]
    }
   ],
   "source": [
    "# Example 8.1 - Refactored\n",
    "class Car:\n",
    "    def start_engine(self):\n",
    "        print(\"Engine started\")\n",
    "\n",
    "class Bicycle:\n",
    "    def start_engine(self):\n",
    "        print(\"No engine to start, pedaling instead\")\n",
    "\n",
    "class Boat:\n",
    "    def start_engine(self):\n",
    "        print(\"Engine started, ready to sail\")\n",
    "\n",
    "def start_engine(vehicle):\n",
    "    vehicle.start_engine()\n",
    "\n",
    "car = Car()\n",
    "bicycle = Bicycle()\n",
    "boat = Boat()\n",
    "\n",
    "start_engine(car)\n",
    "start_engine(bicycle)\n",
    "start_engine(boat)"
   ]
  },
  {
   "cell_type": "markdown",
   "metadata": {},
   "source": [
    "YOUR TURN"
   ]
  },
  {
   "cell_type": "code",
   "execution_count": 40,
   "metadata": {},
   "outputs": [
    {
     "name": "stdout",
     "output_type": "stream",
     "text": [
      "Writing with a pen\n",
      "Writing with a pencil\n",
      "Can't write; typing instead\n"
     ]
    }
   ],
   "source": [
    "# Example 8.2\n",
    "def write_with_tool(tool):\n",
    "    if tool == \"pen\":\n",
    "        print(\"Writing with a pen\")\n",
    "    if tool == \"pencil\":\n",
    "        print(\"Writing with a pencil\")\n",
    "    if tool == \"typewriter\":\n",
    "        print(\"Can't write; typing instead\")\n",
    "\n",
    "write_with_tool(\"pen\")\n",
    "write_with_tool(\"pencil\")\n",
    "write_with_tool(\"typewriter\")"
   ]
  },
  {
   "cell_type": "code",
   "execution_count": 53,
   "metadata": {},
   "outputs": [
    {
     "name": "stdout",
     "output_type": "stream",
     "text": [
      "Writing with a pen\n",
      "Writing with a pencil\n",
      "Can't write; typing instead\n"
     ]
    }
   ],
   "source": [
    "# Example 8.2 - Refactored\n",
    "class Pen:\n",
    "    def write(self):\n",
    "        print(\"Writing with a pen\")\n",
    "\n",
    "class Pencil:\n",
    "    def write(self):\n",
    "        print(\"Writing with a pencil\")\n",
    "\n",
    "class Typewriter:\n",
    "    def write(self):\n",
    "        print(\"Can't write; typing instead\")\n",
    "\n",
    "def write_with_tool(tool):\n",
    "    tool.write()\n",
    "\n",
    "pen = Pen()\n",
    "pencil = Pencil()\n",
    "typewriter = Typewriter()\n",
    "\n",
    "write_with_tool(pen)\n",
    "write_with_tool(pencil)\n",
    "write_with_tool(typewriter)"
   ]
  },
  {
   "cell_type": "markdown",
   "metadata": {},
   "source": [
    "## 9. Combine Functions into Class"
   ]
  },
  {
   "cell_type": "code",
   "execution_count": 54,
   "metadata": {},
   "outputs": [
    {
     "name": "stdout",
     "output_type": "stream",
     "text": [
      "8\n",
      "2\n",
      "15\n",
      "3.0\n"
     ]
    }
   ],
   "source": [
    "# Example 9.1\n",
    "def add(x, y):\n",
    "    return x + y\n",
    "\n",
    "def subtract(x, y):\n",
    "    return x - y\n",
    "\n",
    "def multiply(x, y):\n",
    "    return x * y\n",
    "\n",
    "def divide(x, y):\n",
    "    if y == 0:\n",
    "        raise ValueError(\"Cannot divide by zero\")\n",
    "    return x / y\n",
    "\n",
    "print(add(5, 3))\n",
    "print(subtract(5, 3))\n",
    "print(multiply(5, 3))\n",
    "print(divide(6, 2))"
   ]
  },
  {
   "cell_type": "code",
   "execution_count": 55,
   "metadata": {},
   "outputs": [
    {
     "name": "stdout",
     "output_type": "stream",
     "text": [
      "8\n",
      "2\n",
      "15\n",
      "3.0\n"
     ]
    }
   ],
   "source": [
    "# Example 9.1 - Refactored\n",
    "class Calculator:\n",
    "    def add(self, x, y):\n",
    "        return x + y\n",
    "\n",
    "    def subtract(self, x, y):\n",
    "        return x - y\n",
    "\n",
    "    def multiply(self, x, y):\n",
    "        return x * y\n",
    "\n",
    "    def divide(self, x, y):\n",
    "        if y == 0:\n",
    "            raise ValueError(\"Cannot divide by zero\")\n",
    "        return x / y\n",
    "\n",
    "calculator = Calculator()\n",
    "print(calculator.add(5, 3))\n",
    "print(calculator.subtract(5, 3))\n",
    "print(calculator.multiply(5, 3))\n",
    "print(calculator.divide(6, 2))"
   ]
  },
  {
   "cell_type": "markdown",
   "metadata": {},
   "source": [
    "YOUR TURN"
   ]
  },
  {
   "cell_type": "code",
   "execution_count": 44,
   "metadata": {},
   "outputs": [
    {
     "name": "stdout",
     "output_type": "stream",
     "text": [
      "[{'task_name': 'Read a book', 'completed': True}, {'task_name': 'Go grocery shopping', 'completed': False}]\n"
     ]
    }
   ],
   "source": [
    "# Example 9.2\n",
    "def add_task(tasks, task_name):\n",
    "    tasks.append({\"task_name\": task_name, \"completed\": False})\n",
    "    return tasks\n",
    "\n",
    "def complete_task(tasks, task_name):\n",
    "    for task in tasks:\n",
    "        if task[\"task_name\"] == task_name:\n",
    "            task[\"completed\"] = True\n",
    "            return tasks\n",
    "\n",
    "def remove_task(tasks, task_name):\n",
    "    for task in tasks:\n",
    "        if task[\"task_name\"] == task_name:\n",
    "            tasks.remove(task)\n",
    "            return\n",
    "\n",
    "tasks = []\n",
    "add_task(tasks, \"Read a book\")\n",
    "add_task(tasks, \"Go grocery shopping\")\n",
    "add_task(tasks, \"Finish homework\")\n",
    "remove_task(tasks, \"Finish homework\")\n",
    "complete_task(tasks, \"Read a book\")\n",
    "print(tasks)\n"
   ]
  },
  {
   "cell_type": "code",
   "execution_count": 56,
   "metadata": {},
   "outputs": [
    {
     "name": "stdout",
     "output_type": "stream",
     "text": [
      "[{'task_name': 'Read a book', 'completed': True}, {'task_name': 'Go grocery shopping', 'completed': False}]\n"
     ]
    }
   ],
   "source": [
    "# Example 9.2 - Refactored\n",
    "class TaskManager:\n",
    "    def __init__(self):\n",
    "        self.tasks = []\n",
    "\n",
    "    def add_task(self, task_name):\n",
    "        self.tasks.append({\"task_name\": task_name, \"completed\": False})\n",
    "\n",
    "    def complete_task(self, task_name):\n",
    "        for task in self.tasks:\n",
    "            if task[\"task_name\"] == task_name:\n",
    "                task[\"completed\"] = True\n",
    "\n",
    "    def remove_task(self, task_name):\n",
    "        for task in self.tasks:\n",
    "            if task[\"task_name\"] == task_name:\n",
    "                self.tasks.remove(task)\n",
    "\n",
    "task_manager = TaskManager()\n",
    "task_manager.add_task(\"Read a book\")\n",
    "task_manager.add_task(\"Go grocery shopping\")\n",
    "task_manager.add_task(\"Finish homework\")\n",
    "task_manager.remove_task(\"Finish homework\")\n",
    "task_manager.complete_task(\"Read a book\")\n",
    "print(task_manager.tasks)\n"
   ]
  },
  {
   "cell_type": "markdown",
   "metadata": {},
   "source": [
    "## 10. Strategy Pattern"
   ]
  },
  {
   "cell_type": "code",
   "execution_count": 46,
   "metadata": {},
   "outputs": [
    {
     "name": "stdout",
     "output_type": "stream",
     "text": [
      "Processing credit card payment of $100\n",
      "Processing PayPal payment of $50\n",
      "Processing bank transfer payment of $75\n"
     ]
    }
   ],
   "source": [
    "# Example 10.1\n",
    "class PaymentProcessor:\n",
    "    def process_payment(self, payment_type, amount):\n",
    "        if payment_type == 'credit_card':\n",
    "            self.process_credit_card(amount)\n",
    "        elif payment_type == 'paypal':\n",
    "            self.process_paypal(amount)\n",
    "        elif payment_type == 'bank_transfer':\n",
    "            self.process_bank_transfer(amount)\n",
    "        else:\n",
    "            raise ValueError(\"Invalid payment type\")\n",
    "\n",
    "    def process_credit_card(self, amount):\n",
    "        print(f\"Processing credit card payment of ${amount}\")\n",
    "\n",
    "    def process_paypal(self, amount):\n",
    "        print(f\"Processing PayPal payment of ${amount}\")\n",
    "\n",
    "    def process_bank_transfer(self, amount):\n",
    "        print(f\"Processing bank transfer payment of ${amount}\")\n",
    "\n",
    "payment_processor = PaymentProcessor()\n",
    "payment_processor.process_payment('credit_card', 100)\n",
    "payment_processor.process_payment('paypal', 50)\n",
    "payment_processor.process_payment('bank_transfer', 75)"
   ]
  },
  {
   "cell_type": "code",
   "execution_count": 47,
   "metadata": {},
   "outputs": [
    {
     "name": "stdout",
     "output_type": "stream",
     "text": [
      "Processing credit card payment of $100\n",
      "Processing PayPal payment of $50\n",
      "Processing bank transfer payment of $75\n"
     ]
    }
   ],
   "source": [
    "# Example 10.1 - Refactored\n",
    "class PaymentProcessor:\n",
    "    def __init__(self, payment_strategy):\n",
    "        self.payment_strategy = payment_strategy\n",
    "\n",
    "    def process_payment(self, amount):\n",
    "        self.payment_strategy.process_payment(amount)\n",
    "\n",
    "class CreditCardPayment:\n",
    "    def process_payment(self, amount):\n",
    "        print(f\"Processing credit card payment of ${amount}\")\n",
    "\n",
    "class PayPalPayment:\n",
    "    def process_payment(self, amount):\n",
    "        print(f\"Processing PayPal payment of ${amount}\")\n",
    "\n",
    "class BankTransferPayment:\n",
    "    def process_payment(self, amount):\n",
    "        print(f\"Processing bank transfer payment of ${amount}\")\n",
    "\n",
    "payment_processor = PaymentProcessor(CreditCardPayment())\n",
    "payment_processor.process_payment(100)\n",
    "\n",
    "payment_processor = PaymentProcessor(PayPalPayment())\n",
    "payment_processor.process_payment(50)\n",
    "\n",
    "payment_processor = PaymentProcessor(BankTransferPayment())\n",
    "payment_processor.process_payment(75)\n"
   ]
  },
  {
   "cell_type": "markdown",
   "metadata": {},
   "source": [
    "YOUR TURN"
   ]
  },
  {
   "cell_type": "code",
   "execution_count": 48,
   "metadata": {},
   "outputs": [
    {
     "name": "stdout",
     "output_type": "stream",
     "text": [
      "Sending email to example@example.com: Hello!\n",
      "Sending SMS to +1234567890: Hi there!\n",
      "Sending snail mail to 123 Main St.: Greetings!\n"
     ]
    }
   ],
   "source": [
    "# Example 10.2\n",
    "class NotificationSender:\n",
    "    def send_notification(self, medium, recipient, message):\n",
    "        if medium == 'email':\n",
    "            self.send_email(recipient, message)\n",
    "        elif medium == 'sms':\n",
    "            self.send_sms(recipient, message)\n",
    "        elif medium == 'snail_mail':\n",
    "            self.send_snail_mail(recipient, message)\n",
    "        else:\n",
    "            raise ValueError(\"Invalid notification medium\")\n",
    "\n",
    "    def send_email(self, recipient, message):\n",
    "        print(f\"Sending email to {recipient}: {message}\")\n",
    "\n",
    "    def send_sms(self, recipient, message):\n",
    "        print(f\"Sending SMS to {recipient}: {message}\")\n",
    "\n",
    "    def send_snail_mail(self, recipient, message):\n",
    "        print(f\"Sending snail mail to {recipient}: {message}\")\n",
    "\n",
    "notification_sender = NotificationSender()\n",
    "notification_sender.send_notification('email', 'example@example.com', 'Hello!')\n",
    "notification_sender.send_notification('sms', '+1234567890', 'Hi there!')\n",
    "notification_sender.send_notification('snail_mail', '123 Main St.', 'Greetings!')"
   ]
  },
  {
   "cell_type": "code",
   "execution_count": 57,
   "metadata": {},
   "outputs": [
    {
     "name": "stdout",
     "output_type": "stream",
     "text": [
      "Sending email to example@example.com: Hello!\n",
      "Sending SMS to +1234567890: Hi there!\n",
      "Sending snail mail to 123 Main St.: Greetings!\n"
     ]
    }
   ],
   "source": [
    "# Example 10.2 - Refactored\n",
    "class NotificationSender:\n",
    "    def __init__(self, notification_strategy):\n",
    "        self.notification_strategy = notification_strategy\n",
    "\n",
    "    def send_notification(self, recipient, message):\n",
    "        self.notification_strategy.send_notification(recipient, message)\n",
    "\n",
    "class EmailNotification:\n",
    "    def send_notification(self, recipient, message):\n",
    "        print(f\"Sending email to {recipient}: {message}\")\n",
    "\n",
    "class SMSNotification:\n",
    "    def send_notification(self, recipient, message):\n",
    "        print(f\"Sending SMS to {recipient}: {message}\")\n",
    "\n",
    "class SnailMailNotification:\n",
    "    def send_notification(self, recipient, message):\n",
    "        print(f\"Sending snail mail to {recipient}: {message}\")\n",
    "\n",
    "notification_sender = NotificationSender(EmailNotification())\n",
    "notification_sender.send_notification('example@example.com', 'Hello!')\n",
    "\n",
    "notification_sender = NotificationSender(SMSNotification())\n",
    "notification_sender.send_notification('+1234567890', 'Hi there!')\n",
    "\n",
    "notification_sender = NotificationSender(SnailMailNotification())\n",
    "notification_sender.send_notification('123 Main St.', 'Greetings!')\n"
   ]
  }
 ],
 "metadata": {
  "kernelspec": {
   "display_name": "banijay",
   "language": "python",
   "name": "python3"
  },
  "language_info": {
   "codemirror_mode": {
    "name": "ipython",
    "version": 3
   },
   "file_extension": ".py",
   "mimetype": "text/x-python",
   "name": "python",
   "nbconvert_exporter": "python",
   "pygments_lexer": "ipython3",
   "version": "3.11.3"
  }
 },
 "nbformat": 4,
 "nbformat_minor": 2
}
