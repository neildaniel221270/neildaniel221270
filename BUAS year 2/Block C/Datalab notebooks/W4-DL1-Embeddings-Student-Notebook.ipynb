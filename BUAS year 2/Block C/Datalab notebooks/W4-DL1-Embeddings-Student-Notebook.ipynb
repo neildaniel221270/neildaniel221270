{
 "cells": [
  {
   "cell_type": "markdown",
   "id": "directed-spouse",
   "metadata": {},
   "source": [
    "Before starting the DataLab, preprocess the tweets like you did before."
   ]
  },
  {
   "cell_type": "code",
   "execution_count": 1,
   "id": "acknowledged-scheduling",
   "metadata": {},
   "outputs": [],
   "source": [
    "import nltk\n",
    "from nltk.corpus import twitter_samples\n",
    "import matplotlib.pyplot as plt\n",
    "import random\n",
    "import numpy as np\n",
    "import pandas as pd"
   ]
  },
  {
   "cell_type": "code",
   "execution_count": 2,
   "id": "bottom-contract",
   "metadata": {},
   "outputs": [
    {
     "name": "stderr",
     "output_type": "stream",
     "text": [
      "[nltk_data] Downloading package twitter_samples to\n",
      "[nltk_data]     C:\\Users\\neilr\\AppData\\Roaming\\nltk_data...\n",
      "[nltk_data]   Package twitter_samples is already up-to-date!\n"
     ]
    },
    {
     "data": {
      "text/plain": [
       "True"
      ]
     },
     "execution_count": 2,
     "metadata": {},
     "output_type": "execute_result"
    }
   ],
   "source": [
    "nltk.download('twitter_samples')"
   ]
  },
  {
   "cell_type": "code",
   "execution_count": 3,
   "id": "naval-receipt",
   "metadata": {},
   "outputs": [],
   "source": [
    "# select the set of positive and negative tweets\n",
    "all_positive_tweets = twitter_samples.strings('positive_tweets.json')\n",
    "all_negative_tweets = twitter_samples.strings('negative_tweets.json')"
   ]
  },
  {
   "cell_type": "code",
   "execution_count": 4,
   "id": "historic-description",
   "metadata": {},
   "outputs": [
    {
     "name": "stdout",
     "output_type": "stream",
     "text": [
      "Number of positive tweets:  5000\n",
      "Number of negative tweets:  5000\n"
     ]
    }
   ],
   "source": [
    "print('Number of positive tweets: ', len(all_positive_tweets))\n",
    "print('Number of negative tweets: ', len(all_negative_tweets))"
   ]
  },
  {
   "cell_type": "code",
   "execution_count": 5,
   "id": "better-deputy",
   "metadata": {},
   "outputs": [],
   "source": [
    "import re                                  # library for regular expression operations\n",
    "import string                              # for string operations\n",
    "\n",
    "from nltk.corpus import stopwords          # module for stop words that come with NLTK\n",
    "from nltk.stem import PorterStemmer        # module for stemming\n",
    "from nltk.tokenize import TweetTokenizer   # module for tokenizing strings"
   ]
  },
  {
   "cell_type": "code",
   "execution_count": 6,
   "id": "optical-surface",
   "metadata": {},
   "outputs": [
    {
     "name": "stderr",
     "output_type": "stream",
     "text": [
      "[nltk_data] Downloading package stopwords to\n",
      "[nltk_data]     C:\\Users\\neilr\\AppData\\Roaming\\nltk_data...\n",
      "[nltk_data]   Package stopwords is already up-to-date!\n"
     ]
    }
   ],
   "source": [
    "from nltk.corpus import stopwords\n",
    "nltk.download('stopwords')\n",
    "stopwords_english = stopwords.words('english')"
   ]
  },
  {
   "cell_type": "code",
   "execution_count": 9,
   "id": "dirty-sheet",
   "metadata": {
    "code_folding": []
   },
   "outputs": [],
   "source": [
    "def tweet_processor(tweet):\n",
    "    \"\"\"\n",
    "    Input:\n",
    "        tweet: a string containing a tweet\n",
    "    Output:\n",
    "        processed_tweet: a list of token\n",
    "        \n",
    "    Processing steps:\n",
    "    - Removes hyperlinks\n",
    "    - Removes # sign\n",
    "    - Tokenizes\n",
    "    - Removes stopwords and punctuation\n",
    "    - Stem tokens\n",
    "        \n",
    "    \"\"\"\n",
    "    # YOUR CODE HERE #\n",
    "    # Remove URLs using regular expression\n",
    "    processed_tweet = re.sub(r'http\\S+|www\\S+|https\\S+', '', tweet)\n",
    "    \n",
    "    # Remove hashtags\n",
    "    processed_tweet = re.sub(r'#([^\\s]+)', r'\\1', processed_tweet)\n",
    "    \n",
    "    # Tokenize the tweet using TweetTokenizer\n",
    "    tokenizer = TweetTokenizer(preserve_case=False, reduce_len=True, strip_handles=False)\n",
    "    processed_tweet = tokenizer.tokenize(processed_tweet)\n",
    "    \n",
    "    # Remove stopwords\n",
    "    stopwords_english = set(stopwords.words('english'))\n",
    "    processed_tweet = [word for word in processed_tweet if word not in stopwords_english]\n",
    "    \n",
    "    # Remove punctuation\n",
    "    processed_tweet = [word for word in processed_tweet if word not in string.punctuation]\n",
    "    \n",
    "    # Stem the tokens\n",
    "    stemmer = PorterStemmer()\n",
    "    processed_tweet = [stemmer.stem(word) for word in processed_tweet]\n",
    "\n",
    "    return processed_tweet"
   ]
  },
  {
   "cell_type": "code",
   "execution_count": 10,
   "id": "piano-chemical",
   "metadata": {},
   "outputs": [
    {
     "name": "stdout",
     "output_type": "stream",
     "text": [
      "My beautiful sunflowers on a sunny Friday morning off :) #sunflowers #favourites #happy #Friday off… https://t.co/3tfYom0N1i\n",
      "['beauti', 'sunflow', 'sunni', 'friday', 'morn', ':)', 'sunflow', 'favourit', 'happi', 'friday', '…']\n"
     ]
    }
   ],
   "source": [
    "tweet = all_positive_tweets[2277]\n",
    "tweet_processed = tweet_processor(tweet)\n",
    "\n",
    "print(tweet)\n",
    "print(tweet_processed)"
   ]
  },
  {
   "cell_type": "code",
   "execution_count": 11,
   "id": "patient-bidding",
   "metadata": {},
   "outputs": [],
   "source": [
    "# 80% training 20% testing\n",
    "positive_tweets_tr = all_positive_tweets[:4000]\n",
    "positive_tweets_te = all_positive_tweets[4000:]\n",
    "\n",
    "negative_tweets_tr = all_negative_tweets[:4000]\n",
    "negative_tweets_te = all_negative_tweets[4000:]"
   ]
  },
  {
   "cell_type": "code",
   "execution_count": 12,
   "id": "noted-genius",
   "metadata": {
    "code_folding": []
   },
   "outputs": [],
   "source": [
    "def tweet_processor_list(tweet_list):\n",
    "    # YOUR CODE HERE #\n",
    "    processed_tweet_list = []\n",
    "    for tweet in tweet_list:\n",
    "        processed_tweet = tweet_processor(tweet)\n",
    "        processed_tweet_list.append(processed_tweet)\n",
    "    return processed_tweet_list"
   ]
  },
  {
   "cell_type": "code",
   "execution_count": 13,
   "id": "ruled-birth",
   "metadata": {},
   "outputs": [],
   "source": [
    "positive_tweets_tr = tweet_processor_list(positive_tweets_tr)\n",
    "positive_tweets_te = tweet_processor_list(positive_tweets_te)\n",
    "\n",
    "negative_tweets_tr = tweet_processor_list(negative_tweets_tr)\n",
    "negative_tweets_te = tweet_processor_list(negative_tweets_te)"
   ]
  },
  {
   "cell_type": "markdown",
   "id": "satisfied-builder",
   "metadata": {},
   "source": [
    "You already did the steps until here in the previous DataLab. Let's do a quick sanity check:"
   ]
  },
  {
   "cell_type": "code",
   "execution_count": 14,
   "id": "passive-spectrum",
   "metadata": {},
   "outputs": [],
   "source": [
    "assert len(positive_tweets_tr) == 4000\n",
    "assert len(negative_tweets_tr) == 4000\n",
    "\n",
    "assert len(positive_tweets_te) == 1000\n",
    "assert len(negative_tweets_te) == 1000\n",
    "\n",
    "assert type(positive_tweets_tr) is list\n",
    "assert type(positive_tweets_tr[0]) is list\n",
    "assert type(positive_tweets_tr[0][0]) is str"
   ]
  },
  {
   "cell_type": "markdown",
   "id": "protected-summary",
   "metadata": {},
   "source": [
    "# Introduction\n",
    "\n",
    "In this DataLab you will train a neural network with an embedding layer for classifying tweets as positive and negative.\n",
    "\n",
    "Until now, we based our models (Logistic Regression and Naive Bayes) on counting the words. For the first time, we will try to capture meaning as well by using embeddings.\n",
    "\n",
    "To achieve this, we need to represent words as numbers because neural networks work with numbers."
   ]
  },
  {
   "cell_type": "markdown",
   "id": "focused-entry",
   "metadata": {},
   "source": [
    "## 1. Converting words to numbers\n",
    "\n",
    "Before using the embedding layer, we need to convert tokens to numbers. The best way to explain how to do it is to actually show it. So let's use an example corpus with only 3 documents."
   ]
  },
  {
   "cell_type": "code",
   "execution_count": 15,
   "id": "agreed-division",
   "metadata": {},
   "outputs": [],
   "source": [
    "training_documents = ['This is a tasty apple.',\n",
    "                      'Hello John!',\n",
    "                      'I liked the movie.',\n",
    "                      'I have a car.']"
   ]
  },
  {
   "cell_type": "markdown",
   "id": "fatty-nightlife",
   "metadata": {},
   "source": [
    "Let's use `Tokenizer` from Keras to convert these documents to numbers:\n",
    "\n",
    "https://www.tensorflow.org/api_docs/python/tf/keras/preprocessing/text/Tokenizer"
   ]
  },
  {
   "cell_type": "code",
   "execution_count": 16,
   "id": "lasting-collapse",
   "metadata": {},
   "outputs": [
    {
     "name": "stdout",
     "output_type": "stream",
     "text": [
      "WARNING:tensorflow:From c:\\Users\\neilr\\anaconda3\\Lib\\site-packages\\keras\\src\\losses.py:2976: The name tf.losses.sparse_softmax_cross_entropy is deprecated. Please use tf.compat.v1.losses.sparse_softmax_cross_entropy instead.\n",
      "\n"
     ]
    }
   ],
   "source": [
    "from tensorflow.keras.preprocessing.text import Tokenizer\n",
    "tokenizer = Tokenizer()\n",
    "tokenizer.fit_on_texts(training_documents)"
   ]
  },
  {
   "cell_type": "markdown",
   "id": "administrative-style",
   "metadata": {},
   "source": [
    "What we just did was to simply tokenize all the documents, find the unique tokens (or words) and assign a number (index) to them. You can view the results by using the `word_index` attribute on the `tokenizer` object, which in fact is our vocabulary:"
   ]
  },
  {
   "cell_type": "code",
   "execution_count": 17,
   "id": "collectible-discharge",
   "metadata": {},
   "outputs": [
    {
     "data": {
      "text/plain": [
       "{'a': 1,\n",
       " 'i': 2,\n",
       " 'this': 3,\n",
       " 'is': 4,\n",
       " 'tasty': 5,\n",
       " 'apple': 6,\n",
       " 'hello': 7,\n",
       " 'john': 8,\n",
       " 'liked': 9,\n",
       " 'the': 10,\n",
       " 'movie': 11,\n",
       " 'have': 12,\n",
       " 'car': 13}"
      ]
     },
     "execution_count": 17,
     "metadata": {},
     "output_type": "execute_result"
    }
   ],
   "source": [
    "tokenizer.word_index"
   ]
  },
  {
   "cell_type": "markdown",
   "id": "acceptable-death",
   "metadata": {},
   "source": [
    "Now I can use the `tokenizer` object again to convert documents to numbers."
   ]
  },
  {
   "cell_type": "code",
   "execution_count": 18,
   "id": "delayed-norman",
   "metadata": {},
   "outputs": [
    {
     "data": {
      "text/plain": [
       "[[3, 4, 1, 5, 6], [7, 8], [2, 9, 10, 11], [2, 12, 1, 13]]"
      ]
     },
     "execution_count": 18,
     "metadata": {},
     "output_type": "execute_result"
    }
   ],
   "source": [
    "tokenizer.texts_to_sequences(training_documents)"
   ]
  },
  {
   "cell_type": "markdown",
   "id": "choice-george",
   "metadata": {},
   "source": [
    "`'Hello John!'` becomes `[7, 8]`.\n",
    "\n",
    "But what happens if you would like to convert a document with an unknown word (out of vocabulary)? For example `'Hello Mary!'`"
   ]
  },
  {
   "cell_type": "code",
   "execution_count": 19,
   "id": "stupid-science",
   "metadata": {},
   "outputs": [
    {
     "data": {
      "text/plain": [
       "[[7]]"
      ]
     },
     "execution_count": 19,
     "metadata": {},
     "output_type": "execute_result"
    }
   ],
   "source": [
    "tokenizer.texts_to_sequences(['Hello Mary!'])"
   ]
  },
  {
   "cell_type": "markdown",
   "id": "floppy-accreditation",
   "metadata": {},
   "source": [
    "Unknown word is ignored. This is not ideal. It is better to have a special token that indicates unknown words. Let's repeat the steps above but this time with `oov_token=\"<OOV>\"`"
   ]
  },
  {
   "cell_type": "code",
   "execution_count": 20,
   "id": "appreciated-cradle",
   "metadata": {},
   "outputs": [],
   "source": [
    "tokenizer = Tokenizer(oov_token=\"<OOV>\")\n",
    "tokenizer.fit_on_texts(training_documents)"
   ]
  },
  {
   "cell_type": "code",
   "execution_count": 21,
   "id": "loving-amino",
   "metadata": {},
   "outputs": [
    {
     "data": {
      "text/plain": [
       "{'<OOV>': 1,\n",
       " 'a': 2,\n",
       " 'i': 3,\n",
       " 'this': 4,\n",
       " 'is': 5,\n",
       " 'tasty': 6,\n",
       " 'apple': 7,\n",
       " 'hello': 8,\n",
       " 'john': 9,\n",
       " 'liked': 10,\n",
       " 'the': 11,\n",
       " 'movie': 12,\n",
       " 'have': 13,\n",
       " 'car': 14}"
      ]
     },
     "execution_count": 21,
     "metadata": {},
     "output_type": "execute_result"
    }
   ],
   "source": [
    "tokenizer.word_index"
   ]
  },
  {
   "cell_type": "markdown",
   "id": "weird-morris",
   "metadata": {},
   "source": [
    "This time we have a new token for out of vocabulary words `<OOV>` with `1` as its index. Which means whenever we have an unknown word, it will be indexed as `1`."
   ]
  },
  {
   "cell_type": "code",
   "execution_count": 22,
   "id": "wooden-questionnaire",
   "metadata": {},
   "outputs": [
    {
     "data": {
      "text/plain": [
       "[[8, 1]]"
      ]
     },
     "execution_count": 22,
     "metadata": {},
     "output_type": "execute_result"
    }
   ],
   "source": [
    "tokenizer.texts_to_sequences(['Hello Mary!'])"
   ]
  },
  {
   "cell_type": "markdown",
   "id": "arbitrary-emergency",
   "metadata": {},
   "source": [
    "**Task 1.1**\n",
    "\n",
    "Write a document with a few words and convert it to numbers using `tokenizer.texts_to_sequences()`."
   ]
  },
  {
   "cell_type": "code",
   "execution_count": 23,
   "id": "essential-taylor",
   "metadata": {},
   "outputs": [
    {
     "data": {
      "text/plain": [
       "[[3, 1, 1, 1, 1, 1, 1]]"
      ]
     },
     "execution_count": 23,
     "metadata": {},
     "output_type": "execute_result"
    }
   ],
   "source": [
    "# YOUR CODE HERE #\n",
    "document = ['I love playing football with my friends!']\n",
    "\n",
    "# Convert it to numbers\n",
    "document_numbers = tokenizer.texts_to_sequences(document)\n",
    "document_numbers"
   ]
  },
  {
   "cell_type": "markdown",
   "id": "declared-collins",
   "metadata": {},
   "source": [
    "Let's take a look at our corpus turned into sequences again."
   ]
  },
  {
   "cell_type": "code",
   "execution_count": 24,
   "id": "illegal-biodiversity",
   "metadata": {},
   "outputs": [
    {
     "data": {
      "text/plain": [
       "[[4, 5, 2, 6, 7], [8, 9], [3, 10, 11, 12], [3, 13, 2, 14]]"
      ]
     },
     "execution_count": 24,
     "metadata": {},
     "output_type": "execute_result"
    }
   ],
   "source": [
    "training_sequences = tokenizer.texts_to_sequences(training_documents)\n",
    "training_sequences"
   ]
  },
  {
   "cell_type": "markdown",
   "id": "agreed-correlation",
   "metadata": {},
   "source": [
    "Notice that naturally, the length of the sentences are different. But typically machine learning models expect a fixed input size, in other words a fixed number of features. Handling this is as easy as padding the short sentences with zeros. This can be done using `pad_sequences` from Keras.\n",
    "\n",
    "https://www.tensorflow.org/api_docs/python/tf/keras/utils/pad_sequences"
   ]
  },
  {
   "cell_type": "code",
   "execution_count": 25,
   "id": "military-organizer",
   "metadata": {},
   "outputs": [
    {
     "data": {
      "text/plain": [
       "array([[ 4,  5,  2,  6,  7],\n",
       "       [ 0,  0,  0,  8,  9],\n",
       "       [ 0,  3, 10, 11, 12],\n",
       "       [ 0,  3, 13,  2, 14]])"
      ]
     },
     "execution_count": 25,
     "metadata": {},
     "output_type": "execute_result"
    }
   ],
   "source": [
    "from tensorflow.keras.preprocessing.sequence import pad_sequences\n",
    "pad_sequences(training_sequences)"
   ]
  },
  {
   "cell_type": "markdown",
   "id": "superb-pontiac",
   "metadata": {},
   "source": [
    "Zeros are added to the short sentences and now all sequences are 5 numbers long. Now let's dig deeper to understand the default arguments and how to change them.\n",
    "\n",
    "For example by default zeros are added to the left. We can use `padding='post'` to add zeros to the right."
   ]
  },
  {
   "cell_type": "code",
   "execution_count": 26,
   "id": "successful-panel",
   "metadata": {},
   "outputs": [
    {
     "data": {
      "text/plain": [
       "array([[ 4,  5,  2,  6,  7],\n",
       "       [ 8,  9,  0,  0,  0],\n",
       "       [ 3, 10, 11, 12,  0],\n",
       "       [ 3, 13,  2, 14,  0]])"
      ]
     },
     "execution_count": 26,
     "metadata": {},
     "output_type": "execute_result"
    }
   ],
   "source": [
    "pad_sequences(training_sequences,\n",
    "              padding='post')"
   ]
  },
  {
   "cell_type": "markdown",
   "id": "contrary-amazon",
   "metadata": {},
   "source": [
    "Note that the length of the sequences are equal to the longest sentence. We can make it shorter or longer."
   ]
  },
  {
   "cell_type": "code",
   "execution_count": 27,
   "id": "similar-greene",
   "metadata": {},
   "outputs": [
    {
     "data": {
      "text/plain": [
       "array([[ 2,  6,  7],\n",
       "       [ 8,  9,  0],\n",
       "       [10, 11, 12],\n",
       "       [13,  2, 14]])"
      ]
     },
     "execution_count": 27,
     "metadata": {},
     "output_type": "execute_result"
    }
   ],
   "source": [
    "pad_sequences(training_sequences,\n",
    "              padding='post',\n",
    "              maxlen=3)"
   ]
  },
  {
   "cell_type": "code",
   "execution_count": 28,
   "id": "color-engineer",
   "metadata": {},
   "outputs": [
    {
     "data": {
      "text/plain": [
       "array([[ 4,  5,  2,  6,  7,  0],\n",
       "       [ 8,  9,  0,  0,  0,  0],\n",
       "       [ 3, 10, 11, 12,  0,  0],\n",
       "       [ 3, 13,  2, 14,  0,  0]])"
      ]
     },
     "execution_count": 28,
     "metadata": {},
     "output_type": "execute_result"
    }
   ],
   "source": [
    "pad_sequences(training_sequences,\n",
    "              padding='post',\n",
    "              maxlen=6)"
   ]
  },
  {
   "cell_type": "markdown",
   "id": "compliant-amount",
   "metadata": {},
   "source": [
    "and as you might have guessed we can decide if we want to truncate from left or right of the sentence."
   ]
  },
  {
   "cell_type": "code",
   "execution_count": 29,
   "id": "limiting-journey",
   "metadata": {},
   "outputs": [
    {
     "data": {
      "text/plain": [
       "array([[ 4,  5,  2],\n",
       "       [ 8,  9,  0],\n",
       "       [ 3, 10, 11],\n",
       "       [ 3, 13,  2]])"
      ]
     },
     "execution_count": 29,
     "metadata": {},
     "output_type": "execute_result"
    }
   ],
   "source": [
    "pad_sequences(training_sequences,\n",
    "              padding='post',\n",
    "              maxlen=3,\n",
    "              truncating='post')"
   ]
  },
  {
   "cell_type": "markdown",
   "id": "hairy-blond",
   "metadata": {},
   "source": [
    "**Summary**\n",
    "\n",
    "We started with a list of strings, in other words a corpus with documents.\n",
    "\n",
    "```\n",
    "training_documents = ['This is a tasty apple.',\n",
    "                      'Hello John!',\n",
    "                      'I liked the movie.',\n",
    "                      'I have a car.']\n",
    "```\n",
    "\n",
    "Then, fit a `tokenizer` to it, which assigned a number to every unique word.\n",
    "\n",
    "```\n",
    "{'<OOV>': 1,\n",
    " 'a': 2,\n",
    " 'i': 3,\n",
    " 'this': 4,\n",
    " 'is': 5,\n",
    " 'tasty': 6,\n",
    " 'apple': 7,\n",
    " 'hello': 8,\n",
    " 'john': 9,\n",
    " 'liked': 10,\n",
    " 'the': 11,\n",
    " 'movie': 12,\n",
    " 'have': 13,\n",
    " 'car': 14}\n",
    "```\n",
    "\n",
    "Finally we converted strings into numbers. We used padding to obtain a fixed length for sequences.\n",
    "\n",
    "```\n",
    "array([[ 4,  5,  2,  6,  7],\n",
    "       [ 8,  9,  0,  0,  0],\n",
    "       [ 3, 10, 11, 12,  0],\n",
    "       [ 3, 13,  2, 14,  0]], dtype=int32)\n",
    "```"
   ]
  },
  {
   "cell_type": "markdown",
   "id": "antique-republic",
   "metadata": {},
   "source": [
    "## 2. Converting tweets to numbers\n",
    "\n",
    "Now it is time to apply what you have learned to tweets. But let's first create `training_tweets` and `test_tweets` by combining positive and negative tweets.\n",
    "\n"
   ]
  },
  {
   "cell_type": "code",
   "execution_count": 30,
   "id": "adopted-adrian",
   "metadata": {},
   "outputs": [],
   "source": [
    "training_tweets = positive_tweets_tr + negative_tweets_tr\n",
    "test_tweets = positive_tweets_te + negative_tweets_te"
   ]
  },
  {
   "cell_type": "markdown",
   "id": "parliamentary-fundamentals",
   "metadata": {},
   "source": [
    "While we are creating our dataset, we can also create our labels. We know that first half of `training_tweets` and `test_tweets` are positive (label = 1) and second half is negative (label = 0). Therefore creating the labels is as easy as:"
   ]
  },
  {
   "cell_type": "code",
   "execution_count": 31,
   "id": "united-tokyo",
   "metadata": {},
   "outputs": [
    {
     "name": "stdout",
     "output_type": "stream",
     "text": [
      "(8000,)\n",
      "(2000,)\n"
     ]
    }
   ],
   "source": [
    "y_train = np.append(np.ones(len(positive_tweets_tr)),\n",
    "                    np.zeros(len(negative_tweets_tr)))\n",
    "\n",
    "y_test = np.append(np.ones(len(positive_tweets_te)),\n",
    "                   np.zeros(len(negative_tweets_te)))\n",
    "\n",
    "print(y_train.shape)\n",
    "print(y_test.shape)"
   ]
  },
  {
   "cell_type": "markdown",
   "id": "organizational-viewer",
   "metadata": {},
   "source": [
    "Remember that we already preprocessed and tokenized our tweets:"
   ]
  },
  {
   "cell_type": "code",
   "execution_count": 32,
   "id": "novel-bishop",
   "metadata": {},
   "outputs": [
    {
     "data": {
      "text/plain": [
       "['followfriday',\n",
       " '@france_int',\n",
       " '@pkuchly57',\n",
       " '@milipol_pari',\n",
       " 'top',\n",
       " 'engag',\n",
       " 'member',\n",
       " 'commun',\n",
       " 'week',\n",
       " ':)']"
      ]
     },
     "execution_count": 32,
     "metadata": {},
     "output_type": "execute_result"
    }
   ],
   "source": [
    "training_tweets[0]"
   ]
  },
  {
   "cell_type": "markdown",
   "id": "promising-yeast",
   "metadata": {},
   "source": [
    "But Keras `Tokenizer()` expects a list of strings. So let's combine tokens into strings:"
   ]
  },
  {
   "cell_type": "code",
   "execution_count": 33,
   "id": "lyric-franklin",
   "metadata": {},
   "outputs": [],
   "source": [
    "training_tweets_str = []\n",
    "for tw in training_tweets:\n",
    "    training_tweets_str.append(' '.join(tw))\n",
    "    \n",
    "test_tweets_str = []\n",
    "for tw in test_tweets:\n",
    "    test_tweets_str.append(' '.join(tw))"
   ]
  },
  {
   "cell_type": "code",
   "execution_count": 34,
   "id": "czech-setting",
   "metadata": {},
   "outputs": [
    {
     "data": {
      "text/plain": [
       "'followfriday @france_int @pkuchly57 @milipol_pari top engag member commun week :)'"
      ]
     },
     "execution_count": 34,
     "metadata": {},
     "output_type": "execute_result"
    }
   ],
   "source": [
    "training_tweets_str[0]"
   ]
  },
  {
   "cell_type": "markdown",
   "id": "million-technician",
   "metadata": {},
   "source": [
    "**Task 2.1**\n",
    "\n",
    "Use tokenizer on `training_tweets_str`. Notice that tokenizer processes text with the `filters` parameter. Set it to `filters=''` to prevent processing because we already processed our tweets."
   ]
  },
  {
   "cell_type": "code",
   "execution_count": 35,
   "id": "nutritional-commerce",
   "metadata": {},
   "outputs": [],
   "source": [
    "# YOUR CODE HERE #\n",
    "tokenizer = Tokenizer(filters='')\n",
    "tokenizer.fit_on_texts(training_tweets_str)"
   ]
  },
  {
   "cell_type": "markdown",
   "id": "understood-continuity",
   "metadata": {},
   "source": [
    "**Task 2.2**\n",
    "\n",
    "Calculate the size of the vocabulary."
   ]
  },
  {
   "cell_type": "code",
   "execution_count": 36,
   "id": "dirty-herald",
   "metadata": {},
   "outputs": [
    {
     "name": "stdout",
     "output_type": "stream",
     "text": [
      "14885\n"
     ]
    }
   ],
   "source": [
    "vocab_size = len(tokenizer.word_index)\n",
    "print(vocab_size)"
   ]
  },
  {
   "cell_type": "markdown",
   "id": "graduate-brown",
   "metadata": {},
   "source": [
    "**Task 2.3**\n",
    "\n",
    "Find the numbers that represent the words `'boy'`, `'girl'`, `'man'` and `'woman'`."
   ]
  },
  {
   "cell_type": "code",
   "execution_count": 37,
   "id": "eleven-insurance",
   "metadata": {},
   "outputs": [
    {
     "name": "stdout",
     "output_type": "stream",
     "text": [
      "The index of 'boy' is 354\n",
      "The index of 'girl' is 154\n",
      "The index of 'man' is 203\n",
      "The index of 'woman' is 897\n"
     ]
    }
   ],
   "source": [
    "boy_index = tokenizer.word_index.get('boy', 0)\n",
    "girl_index = tokenizer.word_index.get('girl', 0)\n",
    "man_index = tokenizer.word_index.get('man', 0)\n",
    "woman_index = tokenizer.word_index.get('woman', 0)\n",
    "\n",
    "print(f\"The index of 'boy' is {boy_index}\")\n",
    "print(f\"The index of 'girl' is {girl_index}\")\n",
    "print(f\"The index of 'man' is {man_index}\")\n",
    "print(f\"The index of 'woman' is {woman_index}\")"
   ]
  },
  {
   "cell_type": "markdown",
   "id": "recent-relay",
   "metadata": {},
   "source": [
    "**Task 2.4**\n",
    "\n",
    "Convert training and test tweets to sequences and use padding.\n",
    "\n",
    "Example tweet:\n",
    "\n",
    "`'followfriday top engag member commun week :)'`\n",
    "\n",
    "Corresponding sequence:\n",
    "\n",
    "`[347, 221, 937, 400, 286, 52, 3]`\n",
    "\n",
    "Padded sequence:\n",
    "\n",
    "`array([347, 221, 937, 400, 286,  52,   3,   0,   0,   0,   0,   0,   0,\n",
    "         0,   0,   0,   0,   0,   0,   0,   0,   0,   0,   0,   0,   0,\n",
    "         0,   0,   0,   0], dtype=int32)`\n",
    "\n",
    "\n",
    "For padding arguments use `padding='post'` and `maxlen=30`."
   ]
  },
  {
   "cell_type": "code",
   "execution_count": 38,
   "id": "discrete-office",
   "metadata": {},
   "outputs": [],
   "source": [
    "training_sequences = tokenizer.texts_to_sequences(training_tweets_str)\n",
    "training_padded = pad_sequences(training_sequences, padding='post', maxlen=30)\n",
    "\n",
    "test_sequences = tokenizer.texts_to_sequences(test_tweets_str)\n",
    "test_padded = pad_sequences(test_sequences, padding='post', maxlen=30)"
   ]
  },
  {
   "cell_type": "code",
   "execution_count": 39,
   "id": "fossil-clarity",
   "metadata": {},
   "outputs": [],
   "source": [
    "assert training_padded.shape == (8000, 30)\n",
    "assert test_padded.shape == (2000, 30)"
   ]
  },
  {
   "cell_type": "markdown",
   "id": "dressed-justice",
   "metadata": {},
   "source": [
    "## 3. Build a neural network with an embedding layer\n",
    "\n",
    "You just converted tweets to numbers, now we are ready to train a neural network on this dataset. Let's first define `X_train`, `y_train`, `X_test`, `y_test`. We already created the labels and padded sequences will be our `X_train` and `X_test`."
   ]
  },
  {
   "cell_type": "code",
   "execution_count": 43,
   "id": "charged-raleigh",
   "metadata": {},
   "outputs": [],
   "source": [
    "X_train = training_padded\n",
    "X_test = test_padded"
   ]
  },
  {
   "cell_type": "code",
   "execution_count": 44,
   "id": "flush-defeat",
   "metadata": {},
   "outputs": [
    {
     "data": {
      "text/plain": [
       "((8000, 30), (8000,), (2000, 30), (2000,))"
      ]
     },
     "execution_count": 44,
     "metadata": {},
     "output_type": "execute_result"
    }
   ],
   "source": [
    "X_train.shape, y_train.shape, X_test.shape, y_test.shape"
   ]
  },
  {
   "cell_type": "markdown",
   "id": "eligible-madison",
   "metadata": {},
   "source": [
    "**Task 3.1**\n",
    "\n",
    "Build a `Sequential` model from Keras. First layer should be an `Embedding` layer. In the `Embedding` layer define the following parameters:\n",
    "\n",
    ">input_dim: Integer. Size of the vocabulary, i.e. maximum integer index + 1.\n",
    "\n",
    ">output_dim: Integer. Dimension of the dense embedding.\n",
    "\n",
    ">input_length: Length of input sequences, when it is constant. This argument is required if you are going to connect Flatten then Dense layers upstream (without it, the shape of the dense outputs cannot be computed).\n",
    "\n",
    "Note that `input_dim` is `vocab_size + 1` because we are padding with zeros. For `output_dim` please use `2` because we would like to plot the embeddings. Finally for `input_length` use `30` because we used `maxlen=30` during padding.\n",
    "\n",
    "After the `Embedding` layer flatten its output and connect `Dense` layers. As a last layer, add a `Dense` layer suitable for binary classification."
   ]
  },
  {
   "cell_type": "code",
   "execution_count": 40,
   "id": "subject-familiar",
   "metadata": {},
   "outputs": [
    {
     "name": "stdout",
     "output_type": "stream",
     "text": [
      "WARNING:tensorflow:From c:\\Users\\neilr\\anaconda3\\Lib\\site-packages\\keras\\src\\backend.py:873: The name tf.get_default_graph is deprecated. Please use tf.compat.v1.get_default_graph instead.\n",
      "\n",
      "Model: \"sequential\"\n",
      "_________________________________________________________________\n",
      " Layer (type)                Output Shape              Param #   \n",
      "=================================================================\n",
      " embedding (Embedding)       (None, 30, 2)             29772     \n",
      "                                                                 \n",
      " flatten (Flatten)           (None, 60)                0         \n",
      "                                                                 \n",
      " dense (Dense)               (None, 64)                3904      \n",
      "                                                                 \n",
      " dense_1 (Dense)             (None, 1)                 65        \n",
      "                                                                 \n",
      "=================================================================\n",
      "Total params: 33741 (131.80 KB)\n",
      "Trainable params: 33741 (131.80 KB)\n",
      "Non-trainable params: 0 (0.00 Byte)\n",
      "_________________________________________________________________\n"
     ]
    }
   ],
   "source": [
    "from keras import Sequential\n",
    "from keras.layers import Embedding, Flatten, Dense\n",
    "\n",
    "model = Sequential()\n",
    "\n",
    "# Add Embedding layer\n",
    "model.add(Embedding(input_dim=vocab_size + 1, output_dim=2, input_length=30))\n",
    "\n",
    "# Flatten the output of the Embedding layer\n",
    "model.add(Flatten())\n",
    "\n",
    "# Add Dense layers\n",
    "model.add(Dense(64, activation='relu'))\n",
    "model.add(Dense(1, activation='sigmoid'))\n",
    "\n",
    "model.summary()"
   ]
  },
  {
   "cell_type": "markdown",
   "id": "intermediate-customer",
   "metadata": {},
   "source": [
    "**Task 3.2**\n",
    "\n",
    "Compile the model by selecting a proper loss, optimizer and metric."
   ]
  },
  {
   "cell_type": "code",
   "execution_count": 41,
   "id": "indie-missouri",
   "metadata": {},
   "outputs": [
    {
     "name": "stdout",
     "output_type": "stream",
     "text": [
      "WARNING:tensorflow:From c:\\Users\\neilr\\anaconda3\\Lib\\site-packages\\keras\\src\\optimizers\\__init__.py:309: The name tf.train.Optimizer is deprecated. Please use tf.compat.v1.train.Optimizer instead.\n",
      "\n"
     ]
    }
   ],
   "source": [
    "# YOUR CODE HERE #\n",
    "model.compile(loss='binary_crossentropy', optimizer='adam', metrics=['accuracy'])"
   ]
  },
  {
   "cell_type": "markdown",
   "id": "adjustable-manhattan",
   "metadata": {},
   "source": [
    "**Task 3.3**\n",
    "\n",
    "Train the model with `X_train` and `y_train`. Use `X_test` and `y_test` as validation data."
   ]
  },
  {
   "cell_type": "code",
   "execution_count": 45,
   "id": "adult-benefit",
   "metadata": {},
   "outputs": [
    {
     "name": "stdout",
     "output_type": "stream",
     "text": [
      "Epoch 1/10\n",
      "WARNING:tensorflow:From c:\\Users\\neilr\\anaconda3\\Lib\\site-packages\\keras\\src\\utils\\tf_utils.py:492: The name tf.ragged.RaggedTensorValue is deprecated. Please use tf.compat.v1.ragged.RaggedTensorValue instead.\n",
      "\n",
      "WARNING:tensorflow:From c:\\Users\\neilr\\anaconda3\\Lib\\site-packages\\keras\\src\\engine\\base_layer_utils.py:384: The name tf.executing_eagerly_outside_functions is deprecated. Please use tf.compat.v1.executing_eagerly_outside_functions instead.\n",
      "\n",
      "250/250 [==============================] - 1s 2ms/step - loss: 0.4451 - accuracy: 0.8508 - val_loss: 0.0793 - val_accuracy: 0.9950\n",
      "Epoch 2/10\n",
      "250/250 [==============================] - 0s 1ms/step - loss: 0.0300 - accuracy: 0.9955 - val_loss: 0.0181 - val_accuracy: 0.9975\n",
      "Epoch 3/10\n",
      "250/250 [==============================] - 0s 1ms/step - loss: 0.0074 - accuracy: 0.9990 - val_loss: 0.0119 - val_accuracy: 0.9975\n",
      "Epoch 4/10\n",
      "250/250 [==============================] - 0s 1ms/step - loss: 0.0035 - accuracy: 0.9998 - val_loss: 0.0090 - val_accuracy: 0.9975\n",
      "Epoch 5/10\n",
      "250/250 [==============================] - 0s 1ms/step - loss: 0.0019 - accuracy: 0.9998 - val_loss: 0.0077 - val_accuracy: 0.9980\n",
      "Epoch 6/10\n",
      "250/250 [==============================] - 0s 1ms/step - loss: 0.0011 - accuracy: 1.0000 - val_loss: 0.0073 - val_accuracy: 0.9975\n",
      "Epoch 7/10\n",
      "250/250 [==============================] - 0s 1ms/step - loss: 6.6159e-04 - accuracy: 1.0000 - val_loss: 0.0069 - val_accuracy: 0.9980\n",
      "Epoch 8/10\n",
      "250/250 [==============================] - 0s 1ms/step - loss: 4.4780e-04 - accuracy: 1.0000 - val_loss: 0.0066 - val_accuracy: 0.9980\n",
      "Epoch 9/10\n",
      "250/250 [==============================] - 0s 1ms/step - loss: 3.1448e-04 - accuracy: 1.0000 - val_loss: 0.0072 - val_accuracy: 0.9975\n",
      "Epoch 10/10\n",
      "250/250 [==============================] - 0s 1ms/step - loss: 2.2271e-04 - accuracy: 1.0000 - val_loss: 0.0067 - val_accuracy: 0.9975\n"
     ]
    }
   ],
   "source": [
    "# YOUR CODE HERE #\n",
    "history = model.fit(X_train, y_train, epochs=10, batch_size=32, validation_data=(X_test, y_test))"
   ]
  },
  {
   "cell_type": "markdown",
   "id": "concrete-somalia",
   "metadata": {},
   "source": [
    "You just developed a neural network for sentiment analysis congrats!\n",
    "\n",
    "**Task 3.4**\n",
    "\n",
    "Predict the class of a test tweet.\n",
    "\n",
    "Example tweet:\n",
    "`\"back thnx god i'm happi :)\"`\n",
    "\n",
    "Model prediction:\n",
    "`array([[0.99999976]], dtype=float32)`"
   ]
  },
  {
   "cell_type": "code",
   "execution_count": 46,
   "id": "international-carnival",
   "metadata": {},
   "outputs": [
    {
     "name": "stdout",
     "output_type": "stream",
     "text": [
      "1/1 [==============================] - 0s 63ms/step\n"
     ]
    },
    {
     "data": {
      "text/plain": [
       "array([[0.9999123]], dtype=float32)"
      ]
     },
     "execution_count": 46,
     "metadata": {},
     "output_type": "execute_result"
    }
   ],
   "source": [
    "# YOUR CODE HERE #\n",
    "example_tweet = \"back thnx god i'm happy :)\"\n",
    "\n",
    "# Tokenize and pad the example tweet\n",
    "example_sequence = tokenizer.texts_to_sequences([example_tweet])\n",
    "example_padded = pad_sequences(example_sequence, padding='post', maxlen=30)\n",
    "\n",
    "# Predict the class\n",
    "prediction = model.predict(example_padded)\n",
    "prediction"
   ]
  },
  {
   "cell_type": "markdown",
   "id": "impossible-amsterdam",
   "metadata": {},
   "source": [
    "## 4. Semantic properties of embeddings\n",
    "\n",
    "Take a look at Figures 6.15 and 6.16 (Section 6.10, page 126, Speech and Language Processing). They show one of the ways embeddings capture meaning in language. Let's try if embeddings from our model learned any semantic properties.\n",
    "\n",
    "In order to achieve this we need to access the output of our trained embedding layer, which is the first layer. We can access each layer as follows:"
   ]
  },
  {
   "cell_type": "code",
   "execution_count": 47,
   "id": "material-dragon",
   "metadata": {},
   "outputs": [
    {
     "data": {
      "text/plain": [
       "[<keras.src.layers.core.embedding.Embedding at 0x26c993ccd50>,\n",
       " <keras.src.layers.reshaping.flatten.Flatten at 0x26c999b34d0>,\n",
       " <keras.src.layers.core.dense.Dense at 0x26c94ef17d0>,\n",
       " <keras.src.layers.core.dense.Dense at 0x26c8f412010>]"
      ]
     },
     "execution_count": 47,
     "metadata": {},
     "output_type": "execute_result"
    }
   ],
   "source": [
    "model.layers"
   ]
  },
  {
   "cell_type": "markdown",
   "id": "progressive-fifty",
   "metadata": {},
   "source": [
    "and input/output of a layer as follows:"
   ]
  },
  {
   "cell_type": "code",
   "execution_count": 48,
   "id": "applied-edmonton",
   "metadata": {},
   "outputs": [
    {
     "data": {
      "text/plain": [
       "<KerasTensor: shape=(None, 30) dtype=float32 (created by layer 'embedding_input')>"
      ]
     },
     "execution_count": 48,
     "metadata": {},
     "output_type": "execute_result"
    }
   ],
   "source": [
    "model.layers[0].input"
   ]
  },
  {
   "cell_type": "code",
   "execution_count": 49,
   "id": "australian-klein",
   "metadata": {},
   "outputs": [
    {
     "data": {
      "text/plain": [
       "<KerasTensor: shape=(None, 30, 2) dtype=float32 (created by layer 'embedding')>"
      ]
     },
     "execution_count": 49,
     "metadata": {},
     "output_type": "execute_result"
    }
   ],
   "source": [
    "model.layers[0].output"
   ]
  },
  {
   "cell_type": "markdown",
   "id": "asian-buffer",
   "metadata": {},
   "source": [
    "We can create a new model only from the trained Embedding layer."
   ]
  },
  {
   "cell_type": "code",
   "execution_count": 50,
   "id": "korean-venue",
   "metadata": {},
   "outputs": [],
   "source": [
    "from tensorflow.keras.models import Model\n",
    "embedding_model = Model(inputs=model.layers[0].input,\n",
    "                        outputs=model.layers[0].output)"
   ]
  },
  {
   "cell_type": "markdown",
   "id": "changed-tower",
   "metadata": {},
   "source": [
    "`embedding_model` accepts sequences as input and returns the output of the embedding layer."
   ]
  },
  {
   "cell_type": "markdown",
   "id": "impaired-french",
   "metadata": {},
   "source": [
    "**Task 4.1**\n",
    "\n",
    "We can use this model, just like any model. Use the `embedding_model` on the test tweet you used for Task 3.4 and get the embeddings. You should obtain two numbers for each word in the tweet. These two numbers are called word embeddings.\n",
    "\n",
    "Example tweet:\n",
    "\n",
    "`\"back thnx god i'm happi :)\"`\n",
    "\n",
    "Expected output:\n",
    "\n",
    "```\n",
    "array([[[ 2.03354090e-01, -1.61128387e-01],\n",
    "        [ 3.02020200e-02, -4.17610519e-02],\n",
    "        [-6.28291816e-03, -3.17817833e-03],\n",
    "        [ 1.16536245e-01, -1.00184120e-01],\n",
    "        [-2.93731004e-01,  2.99061388e-01],\n",
    "        [-1.42090285e+00,  1.37957323e+00],\n",
    "        [-7.92113831e-04,  2.80260388e-02],\n",
    "        [-7.92113831e-04,  2.80260388e-02],\n",
    "        [-7.92113831e-04,  2.80260388e-02],\n",
    "        ...\n",
    "        [-7.92113831e-04,  2.80260388e-02]]], dtype=float32)\n",
    "```\n",
    "\n",
    "where `'back'` is `[ 2.03354090e-01, -1.61128387e-01]`."
   ]
  },
  {
   "cell_type": "code",
   "execution_count": 51,
   "id": "stuffed-uniform",
   "metadata": {},
   "outputs": [
    {
     "name": "stdout",
     "output_type": "stream",
     "text": [
      "1/1 [==============================] - 0s 32ms/step\n"
     ]
    },
    {
     "data": {
      "text/plain": [
       "array([[[-0.02959852, -0.05010784],\n",
       "        [-0.01541641,  0.0008052 ],\n",
       "        [ 0.02914905, -0.0649142 ],\n",
       "        [-0.468154  ,  0.39904687],\n",
       "        [-0.05754199, -0.11808489],\n",
       "        [-0.05754199, -0.11808489],\n",
       "        [-0.05754199, -0.11808489],\n",
       "        [-0.05754199, -0.11808489],\n",
       "        [-0.05754199, -0.11808489],\n",
       "        [-0.05754199, -0.11808489],\n",
       "        [-0.05754199, -0.11808489],\n",
       "        [-0.05754199, -0.11808489],\n",
       "        [-0.05754199, -0.11808489],\n",
       "        [-0.05754199, -0.11808489],\n",
       "        [-0.05754199, -0.11808489],\n",
       "        [-0.05754199, -0.11808489],\n",
       "        [-0.05754199, -0.11808489],\n",
       "        [-0.05754199, -0.11808489],\n",
       "        [-0.05754199, -0.11808489],\n",
       "        [-0.05754199, -0.11808489],\n",
       "        [-0.05754199, -0.11808489],\n",
       "        [-0.05754199, -0.11808489],\n",
       "        [-0.05754199, -0.11808489],\n",
       "        [-0.05754199, -0.11808489],\n",
       "        [-0.05754199, -0.11808489],\n",
       "        [-0.05754199, -0.11808489],\n",
       "        [-0.05754199, -0.11808489],\n",
       "        [-0.05754199, -0.11808489],\n",
       "        [-0.05754199, -0.11808489],\n",
       "        [-0.05754199, -0.11808489]]], dtype=float32)"
      ]
     },
     "execution_count": 51,
     "metadata": {},
     "output_type": "execute_result"
    }
   ],
   "source": [
    "# YOUR CODE HERE #\n",
    "# Example tweet\n",
    "example_tweet = \"back thnx god i'm happy :)\"\n",
    "\n",
    "# Tokenize the example tweet\n",
    "example_sequence = tokenizer.texts_to_sequences([example_tweet])\n",
    "\n",
    "# Pad the tokenized sequence\n",
    "example_padded = pad_sequences(example_sequence, padding='post', maxlen=30)\n",
    "\n",
    "# Get the embeddings using the embedding_model\n",
    "embeddings = embedding_model.predict(example_padded)\n",
    "embeddings"
   ]
  },
  {
   "cell_type": "markdown",
   "id": "quality-store",
   "metadata": {},
   "source": [
    "Using the idea above, let's create a function that can give us a vector (word embedding) for any given word.\n",
    "\n",
    "**Task 4.2**\n",
    "\n",
    "Write a function that:\n",
    "- Accepts a word as a string\n",
    "```\n",
    "'man'\n",
    "```\n",
    "- Converts it into a sequence using the `tokenizer` you fitted previously\n",
    "```\n",
    "[[199]]\n",
    "```\n",
    "- Pads it\n",
    "```\n",
    "array([[199,   0,   0,   0,   0,   0,   0,   0,   0,   0,   0,   0,   0,\n",
    "          0,   0,   0,   0,   0,   0,   0,   0,   0,   0,   0,   0,   0,\n",
    "          0,   0,   0,   0]], dtype=int32)\n",
    "```\n",
    "- Uses the `embedding_model` to get the embeddings\n",
    "```\n",
    "array([[[ 0.13211662,  0.11832968],\n",
    "        [-0.03486646, -0.00182698],\n",
    "        [-0.03486646, -0.00182698],\n",
    "        [-0.03486646, -0.00182698],\n",
    "        [-0.03486646, -0.00182698],\n",
    "        ...\n",
    "        [-0.03486646, -0.00182698]]], dtype=float32)\n",
    "```\n",
    "- And finally returns the embedding (vector) that corresponds to the word e.g. \n",
    "```\n",
    "array([0.13211662, 0.11832968], dtype=float32)\n",
    "```"
   ]
  },
  {
   "cell_type": "code",
   "execution_count": 52,
   "id": "relevant-commander",
   "metadata": {},
   "outputs": [],
   "source": [
    "def word_to_vector(word):\n",
    "    \"\"\"\n",
    "    Input:\n",
    "        word: a string containing the word\n",
    "    Output:\n",
    "        vector: a numpy array containing the vector obtained \n",
    "                from the trained embedding layer\n",
    "    \"\"\"\n",
    "    # Tokenize the word\n",
    "    word_sequence = tokenizer.texts_to_sequences([word])\n",
    "    \n",
    "    # Pad the tokenized sequence\n",
    "    padded_sequence = pad_sequences(word_sequence, padding='post', maxlen=30)\n",
    "    \n",
    "    # Get the embeddings using the embedding_model\n",
    "    embeddings = embedding_model.predict(padded_sequence)\n",
    "    \n",
    "    # Return the embedding (vector) corresponding to the word\n",
    "    return embeddings[0][0]"
   ]
  },
  {
   "cell_type": "code",
   "execution_count": 53,
   "id": "endless-console",
   "metadata": {},
   "outputs": [
    {
     "name": "stdout",
     "output_type": "stream",
     "text": [
      "1/1 [==============================] - 0s 15ms/step\n"
     ]
    },
    {
     "data": {
      "text/plain": [
       "array([ 0.02573082, -0.04593407], dtype=float32)"
      ]
     },
     "execution_count": 53,
     "metadata": {},
     "output_type": "execute_result"
    }
   ],
   "source": [
    "vector = word_to_vector('man')\n",
    "vector"
   ]
  },
  {
   "cell_type": "code",
   "execution_count": 54,
   "id": "aggressive-blanket",
   "metadata": {},
   "outputs": [],
   "source": [
    "assert type(vector) == np.ndarray\n",
    "assert vector.shape == (2,)"
   ]
  },
  {
   "cell_type": "markdown",
   "id": "level-report",
   "metadata": {},
   "source": [
    "**Task 4.3**\n",
    "\n",
    "Plot the embeddings of the following words `['boy', 'girl', 'man', 'woman']` and check if your model captures the male-female relation.\n",
    "\n",
    "<img src=https://i.imgur.com/CUZuvxW.png width=\"400\">"
   ]
  },
  {
   "cell_type": "code",
   "execution_count": 55,
   "id": "municipal-thong",
   "metadata": {},
   "outputs": [],
   "source": [
    "def word_plotter(words):\n",
    "    # Get embeddings for each word\n",
    "    vectors = [word_to_vector(word) for word in words]\n",
    "\n",
    "    # Extract x and y coordinates from embeddings\n",
    "    x = [vector[0] for vector in vectors]\n",
    "    y = [vector[1] for vector in vectors]\n",
    "\n",
    "    # Plot the embeddings\n",
    "    plt.figure(figsize=(8, 6))\n",
    "    plt.scatter(x, y, color='blue')\n",
    "    for i, word in enumerate(words):\n",
    "        plt.annotate(word, (x[i], y[i]), textcoords=\"offset points\", xytext=(0,10), ha='center')\n",
    "    plt.xlabel('Dimension 1')\n",
    "    plt.ylabel('Dimension 2')\n",
    "    plt.title('Word Embeddings')\n",
    "    plt.grid(True)\n",
    "    plt.show()"
   ]
  },
  {
   "cell_type": "code",
   "execution_count": 56,
   "id": "athletic-championship",
   "metadata": {},
   "outputs": [
    {
     "name": "stdout",
     "output_type": "stream",
     "text": [
      "1/1 [==============================] - 0s 15ms/step\n",
      "1/1 [==============================] - 0s 16ms/step\n",
      "1/1 [==============================] - 0s 13ms/step\n",
      "1/1 [==============================] - 0s 15ms/step\n"
     ]
    },
    {
     "data": {
      "image/png": "[encoded data removed]",
      "text/plain": [
       "<Figure size 800x600 with 1 Axes>"
      ]
     },
     "metadata": {},
     "output_type": "display_data"
    }
   ],
   "source": [
    "word_plotter(['boy', 'girl', 'man', 'woman'])"
   ]
  }
 ],
 "metadata": {
  "kernelspec": {
   "display_name": "Python 3",
   "language": "python",
   "name": "python3"
  },
  "language_info": {
   "codemirror_mode": {
    "name": "ipython",
    "version": 3
   },
   "file_extension": ".py",
   "mimetype": "text/x-python",
   "name": "python",
   "nbconvert_exporter": "python",
   "pygments_lexer": "ipython3",
   "version": "3.11.3"
  }
 },
 "nbformat": 4,
 "nbformat_minor": 5
}
