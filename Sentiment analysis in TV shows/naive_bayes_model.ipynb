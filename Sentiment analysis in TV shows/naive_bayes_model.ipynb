{
 "cells": [
  {
   "cell_type": "code",
   "execution_count": 23,
   "metadata": {},
   "outputs": [],
   "source": [
    "import pandas as pd\n",
    "from sklearn.model_selection import train_test_split\n",
    "from sklearn.naive_bayes import GaussianNB\n",
    "from sklearn.metrics import accuracy_score\n",
    "from sklearn.feature_extraction.text import CountVectorizer, TfidfVectorizer\n",
    "from sklearn.linear_model import LogisticRegression\n",
    "from sklearn.metrics import f1_score\n",
    "import matplotlib.pyplot as plt\n",
    "from tensorflow.keras.callbacks import EarlyStopping\n",
    "from sklearn.metrics import accuracy_score, f1_score\n",
    "from sklearn.utils import shuffle\n",
    "from scipy.sparse import csr_matrix\n",
    "from sklearn.metrics import confusion_matrix, ConfusionMatrixDisplay\n",
    "from sklearn.naive_bayes import MultinomialNB"
   ]
  },
  {
   "cell_type": "code",
   "execution_count": 24,
   "metadata": {},
   "outputs": [
    {
     "data": {
      "text/html": [
       "<div>\n",
       "<style scoped>\n",
       "    .dataframe tbody tr th:only-of-type {\n",
       "        vertical-align: middle;\n",
       "    }\n",
       "\n",
       "    .dataframe tbody tr th {\n",
       "        vertical-align: top;\n",
       "    }\n",
       "\n",
       "    .dataframe thead th {\n",
       "        text-align: right;\n",
       "    }\n",
       "</style>\n",
       "<table border=\"1\" class=\"dataframe\">\n",
       "  <thead>\n",
       "    <tr style=\"text-align: right;\">\n",
       "      <th></th>\n",
       "      <th>sentence</th>\n",
       "      <th>emotion</th>\n",
       "      <th>doc_2_grams</th>\n",
       "      <th>doc_3_grams</th>\n",
       "      <th>token_part_of_speech</th>\n",
       "      <th>token_lemmatized</th>\n",
       "      <th>token_normalized</th>\n",
       "      <th>token_dependancy</th>\n",
       "      <th>token_sentiment</th>\n",
       "    </tr>\n",
       "  </thead>\n",
       "  <tbody>\n",
       "    <tr>\n",
       "      <th>0</th>\n",
       "      <td>That game hurt.</td>\n",
       "      <td>other</td>\n",
       "      <td>[game_hurt]</td>\n",
       "      <td>[]</td>\n",
       "      <td>[DET, NOUN, VERB, PUNCT]</td>\n",
       "      <td>[that, game, hurt, .]</td>\n",
       "      <td>[that, game, hurt, .]</td>\n",
       "      <td>[det, nsubj, ROOT, punct]</td>\n",
       "      <td>[0.0, -0.4, 0.0, 0.0]</td>\n",
       "    </tr>\n",
       "    <tr>\n",
       "      <th>1</th>\n",
       "      <td>You do right, if you don't care then fuck 'em!</td>\n",
       "      <td>other</td>\n",
       "      <td>[right_care, care_fuck]</td>\n",
       "      <td>[right_care_fuck]</td>\n",
       "      <td>[PRON, VERB, ADV, PUNCT, SCONJ, PRON, AUX, PAR...</td>\n",
       "      <td>[you, do, right, ,, if, you, do, not, care, th...</td>\n",
       "      <td>[you, do, right, ,, if, you, do, not, care, th...</td>\n",
       "      <td>[nsubj, ccomp, dobj, punct, mark, nsubj, aux, ...</td>\n",
       "      <td>[0.0, 0.0, 0.2857142857142857, 0.0, 0.0, 0.0, ...</td>\n",
       "    </tr>\n",
       "    <tr>\n",
       "      <th>2</th>\n",
       "      <td>Man I love reddit.</td>\n",
       "      <td>happiness</td>\n",
       "      <td>[man_love, love_reddit]</td>\n",
       "      <td>[man_love_reddit]</td>\n",
       "      <td>[INTJ, PRON, VERB, NOUN, PUNCT]</td>\n",
       "      <td>[man, I, love, reddit, .]</td>\n",
       "      <td>[man, i, love, reddit, .]</td>\n",
       "      <td>[intj, nsubj, ROOT, dobj, punct]</td>\n",
       "      <td>[0.0, 0.0, 0.5, 0.0, 0.0]</td>\n",
       "    </tr>\n",
       "    <tr>\n",
       "      <th>3</th>\n",
       "      <td>[NAME] was nowhere near them, he was by the Fa...</td>\n",
       "      <td>other</td>\n",
       "      <td>[near_falcon]</td>\n",
       "      <td>[]</td>\n",
       "      <td>[X, NOUN, PUNCT, AUX, ADV, ADP, PRON, PUNCT, P...</td>\n",
       "      <td>[[, name, ], be, nowhere, near, they, ,, he, b...</td>\n",
       "      <td>[[, name, ], was, nowhere, near, them, ,, he, ...</td>\n",
       "      <td>[dep, dep, punct, ccomp, advmod, prep, pobj, p...</td>\n",
       "      <td>[0.0, 0.0, 0.0, 0.0, 0.0, 0.1, 0.0, 0.0, 0.0, ...</td>\n",
       "    </tr>\n",
       "    <tr>\n",
       "      <th>4</th>\n",
       "      <td>Right? Considering it’s such an important docu...</td>\n",
       "      <td>happiness</td>\n",
       "      <td>[right_consider, consider_important, important...</td>\n",
       "      <td>[right_consider_important, consider_important_...</td>\n",
       "      <td>[INTJ, PUNCT, VERB, PRON, VERB, DET, DET, ADJ,...</td>\n",
       "      <td>[right, ?, consider, it, ’, such, an, importan...</td>\n",
       "      <td>[right, ?, considering, it, 's, such, an, impo...</td>\n",
       "      <td>[ROOT, punct, csubj, nsubj, advcl, predet, det...</td>\n",
       "      <td>[0.2857142857142857, 0.0, 0.0, 0.0, 0.0, 0.0, ...</td>\n",
       "    </tr>\n",
       "  </tbody>\n",
       "</table>\n",
       "</div>"
      ],
      "text/plain": [
       "                                            sentence    emotion  \\\n",
       "0                                    That game hurt.      other   \n",
       "1     You do right, if you don't care then fuck 'em!      other   \n",
       "2                                 Man I love reddit.  happiness   \n",
       "3  [NAME] was nowhere near them, he was by the Fa...      other   \n",
       "4  Right? Considering it’s such an important docu...  happiness   \n",
       "\n",
       "                                         doc_2_grams  \\\n",
       "0                                        [game_hurt]   \n",
       "1                            [right_care, care_fuck]   \n",
       "2                            [man_love, love_reddit]   \n",
       "3                                      [near_falcon]   \n",
       "4  [right_consider, consider_important, important...   \n",
       "\n",
       "                                         doc_3_grams  \\\n",
       "0                                                 []   \n",
       "1                                  [right_care_fuck]   \n",
       "2                                  [man_love_reddit]   \n",
       "3                                                 []   \n",
       "4  [right_consider_important, consider_important_...   \n",
       "\n",
       "                                token_part_of_speech  \\\n",
       "0                           [DET, NOUN, VERB, PUNCT]   \n",
       "1  [PRON, VERB, ADV, PUNCT, SCONJ, PRON, AUX, PAR...   \n",
       "2                    [INTJ, PRON, VERB, NOUN, PUNCT]   \n",
       "3  [X, NOUN, PUNCT, AUX, ADV, ADP, PRON, PUNCT, P...   \n",
       "4  [INTJ, PUNCT, VERB, PRON, VERB, DET, DET, ADJ,...   \n",
       "\n",
       "                                    token_lemmatized  \\\n",
       "0                              [that, game, hurt, .]   \n",
       "1  [you, do, right, ,, if, you, do, not, care, th...   \n",
       "2                          [man, I, love, reddit, .]   \n",
       "3  [[, name, ], be, nowhere, near, they, ,, he, b...   \n",
       "4  [right, ?, consider, it, ’, such, an, importan...   \n",
       "\n",
       "                                    token_normalized  \\\n",
       "0                              [that, game, hurt, .]   \n",
       "1  [you, do, right, ,, if, you, do, not, care, th...   \n",
       "2                          [man, i, love, reddit, .]   \n",
       "3  [[, name, ], was, nowhere, near, them, ,, he, ...   \n",
       "4  [right, ?, considering, it, 's, such, an, impo...   \n",
       "\n",
       "                                    token_dependancy  \\\n",
       "0                          [det, nsubj, ROOT, punct]   \n",
       "1  [nsubj, ccomp, dobj, punct, mark, nsubj, aux, ...   \n",
       "2                   [intj, nsubj, ROOT, dobj, punct]   \n",
       "3  [dep, dep, punct, ccomp, advmod, prep, pobj, p...   \n",
       "4  [ROOT, punct, csubj, nsubj, advcl, predet, det...   \n",
       "\n",
       "                                     token_sentiment  \n",
       "0                              [0.0, -0.4, 0.0, 0.0]  \n",
       "1  [0.0, 0.0, 0.2857142857142857, 0.0, 0.0, 0.0, ...  \n",
       "2                          [0.0, 0.0, 0.5, 0.0, 0.0]  \n",
       "3  [0.0, 0.0, 0.0, 0.0, 0.0, 0.1, 0.0, 0.0, 0.0, ...  \n",
       "4  [0.2857142857142857, 0.0, 0.0, 0.0, 0.0, 0.0, ...  "
      ]
     },
     "execution_count": 24,
     "metadata": {},
     "output_type": "execute_result"
    }
   ],
   "source": [
    "# Read the pickle file\n",
    "features = pd.read_pickle('./Datasets/feature_extraction.pkl')\n",
    "features.head()"
   ]
  },
  {
   "cell_type": "code",
   "execution_count": 25,
   "metadata": {},
   "outputs": [],
   "source": [
    "# Concatenate all specified columns into a single feature column\n",
    "features['X'] = features['sentence'] + ' ' + \\\n",
    "                features['doc_2_grams'].map(lambda x: ' '.join(x)) + ' ' + \\\n",
    "                features['doc_3_grams'].map(lambda x: ' '.join(x)) + ' ' + \\\n",
    "                features['token_part_of_speech'].map(lambda x: ' '.join(x)) + ' ' + \\\n",
    "                features['token_lemmatized'].map(lambda x: ' '.join(x)) + ' ' + \\\n",
    "                features['token_normalized'].map(lambda x: ' '.join(x)) + ' ' + \\\n",
    "                features['token_dependancy'].map(lambda x: ' '.join(x)) + ' ' + \\\n",
    "                features['token_sentiment'].map(lambda x: ' '.join(map(str, x)))\n",
    "\n",
    "# Define features and target\n",
    "X = features['X']\n",
    "y = features['emotion']\n",
    "\n",
    "# Drop rows with NaN values in 'X_text' and corresponding 'y'\n",
    "X.dropna(inplace=True)\n",
    "y = y[X.index]"
   ]
  },
  {
   "cell_type": "code",
   "execution_count": 26,
   "metadata": {},
   "outputs": [],
   "source": [
    "# Vectorize the text data\n",
    "vectorizer = TfidfVectorizer()\n",
    "X_vectorized = vectorizer.fit_transform(X)"
   ]
  },
  {
   "cell_type": "code",
   "execution_count": 34,
   "metadata": {},
   "outputs": [],
   "source": [
    "# Train-test split\n",
    "X_train, X_test, y_train, y_test = train_test_split(X_vectorized, y, test_size=0.2, random_state=42)\n",
    "\n",
    "# Split the training data into training and validation sets\n",
    "X_train_split, X_val, y_train_split, y_val = train_test_split(X_train, y_train, test_size=0.2, random_state=42)"
   ]
  },
  {
   "cell_type": "code",
   "execution_count": 28,
   "metadata": {},
   "outputs": [
    {
     "data": {
      "text/html": [
       "<style>#sk-container-id-2 {color: black;background-color: white;}#sk-container-id-2 pre{padding: 0;}#sk-container-id-2 div.sk-toggleable {background-color: white;}#sk-container-id-2 label.sk-toggleable__label {cursor: pointer;display: block;width: 100%;margin-bottom: 0;padding: 0.3em;box-sizing: border-box;text-align: center;}#sk-container-id-2 label.sk-toggleable__label-arrow:before {content: \"▸\";float: left;margin-right: 0.25em;color: #696969;}#sk-container-id-2 label.sk-toggleable__label-arrow:hover:before {color: black;}#sk-container-id-2 div.sk-estimator:hover label.sk-toggleable__label-arrow:before {color: black;}#sk-container-id-2 div.sk-toggleable__content {max-height: 0;max-width: 0;overflow: hidden;text-align: left;background-color: #f0f8ff;}#sk-container-id-2 div.sk-toggleable__content pre {margin: 0.2em;color: black;border-radius: 0.25em;background-color: #f0f8ff;}#sk-container-id-2 input.sk-toggleable__control:checked~div.sk-toggleable__content {max-height: 200px;max-width: 100%;overflow: auto;}#sk-container-id-2 input.sk-toggleable__control:checked~label.sk-toggleable__label-arrow:before {content: \"▾\";}#sk-container-id-2 div.sk-estimator input.sk-toggleable__control:checked~label.sk-toggleable__label {background-color: #d4ebff;}#sk-container-id-2 div.sk-label input.sk-toggleable__control:checked~label.sk-toggleable__label {background-color: #d4ebff;}#sk-container-id-2 input.sk-hidden--visually {border: 0;clip: rect(1px 1px 1px 1px);clip: rect(1px, 1px, 1px, 1px);height: 1px;margin: -1px;overflow: hidden;padding: 0;position: absolute;width: 1px;}#sk-container-id-2 div.sk-estimator {font-family: monospace;background-color: #f0f8ff;border: 1px dotted black;border-radius: 0.25em;box-sizing: border-box;margin-bottom: 0.5em;}#sk-container-id-2 div.sk-estimator:hover {background-color: #d4ebff;}#sk-container-id-2 div.sk-parallel-item::after {content: \"\";width: 100%;border-bottom: 1px solid gray;flex-grow: 1;}#sk-container-id-2 div.sk-label:hover label.sk-toggleable__label {background-color: #d4ebff;}#sk-container-id-2 div.sk-serial::before {content: \"\";position: absolute;border-left: 1px solid gray;box-sizing: border-box;top: 0;bottom: 0;left: 50%;z-index: 0;}#sk-container-id-2 div.sk-serial {display: flex;flex-direction: column;align-items: center;background-color: white;padding-right: 0.2em;padding-left: 0.2em;position: relative;}#sk-container-id-2 div.sk-item {position: relative;z-index: 1;}#sk-container-id-2 div.sk-parallel {display: flex;align-items: stretch;justify-content: center;background-color: white;position: relative;}#sk-container-id-2 div.sk-item::before, #sk-container-id-2 div.sk-parallel-item::before {content: \"\";position: absolute;border-left: 1px solid gray;box-sizing: border-box;top: 0;bottom: 0;left: 50%;z-index: -1;}#sk-container-id-2 div.sk-parallel-item {display: flex;flex-direction: column;z-index: 1;position: relative;background-color: white;}#sk-container-id-2 div.sk-parallel-item:first-child::after {align-self: flex-end;width: 50%;}#sk-container-id-2 div.sk-parallel-item:last-child::after {align-self: flex-start;width: 50%;}#sk-container-id-2 div.sk-parallel-item:only-child::after {width: 0;}#sk-container-id-2 div.sk-dashed-wrapped {border: 1px dashed gray;margin: 0 0.4em 0.5em 0.4em;box-sizing: border-box;padding-bottom: 0.4em;background-color: white;}#sk-container-id-2 div.sk-label label {font-family: monospace;font-weight: bold;display: inline-block;line-height: 1.2em;}#sk-container-id-2 div.sk-label-container {text-align: center;}#sk-container-id-2 div.sk-container {/* jupyter's `normalize.less` sets `[hidden] { display: none; }` but bootstrap.min.css set `[hidden] { display: none !important; }` so we also need the `!important` here to be able to override the default hidden behavior on the sphinx rendered scikit-learn.org. See: https://github.com/scikit-learn/scikit-learn/issues/21755 */display: inline-block !important;position: relative;}#sk-container-id-2 div.sk-text-repr-fallback {display: none;}</style><div id=\"sk-container-id-2\" class=\"sk-top-container\"><div class=\"sk-text-repr-fallback\"><pre>MultinomialNB()</pre><b>In a Jupyter environment, please rerun this cell to show the HTML representation or trust the notebook. <br />On GitHub, the HTML representation is unable to render, please try loading this page with nbviewer.org.</b></div><div class=\"sk-container\" hidden><div class=\"sk-item\"><div class=\"sk-estimator sk-toggleable\"><input class=\"sk-toggleable__control sk-hidden--visually\" id=\"sk-estimator-id-2\" type=\"checkbox\" checked><label for=\"sk-estimator-id-2\" class=\"sk-toggleable__label sk-toggleable__label-arrow\">MultinomialNB</label><div class=\"sk-toggleable__content\"><pre>MultinomialNB()</pre></div></div></div></div></div>"
      ],
      "text/plain": [
       "MultinomialNB()"
      ]
     },
     "execution_count": 28,
     "metadata": {},
     "output_type": "execute_result"
    }
   ],
   "source": [
    "model = MultinomialNB()\n",
    "model.fit(X_train, y_train)"
   ]
  },
  {
   "cell_type": "code",
   "execution_count": 29,
   "metadata": {},
   "outputs": [],
   "source": [
    "# Predict on the test data\n",
    "y_pred = model.predict(X_test)"
   ]
  },
  {
   "cell_type": "code",
   "execution_count": 30,
   "metadata": {},
   "outputs": [
    {
     "data": {
      "text/plain": [
       "<sklearn.metrics._plot.confusion_matrix.ConfusionMatrixDisplay at 0x1d8a0683a90>"
      ]
     },
     "execution_count": 30,
     "metadata": {},
     "output_type": "execute_result"
    },
    {
     "data": {
      "image/png": "[encoded data removed]",
      "text/plain": [
       "<Figure size 640x480 with 2 Axes>"
      ]
     },
     "metadata": {},
     "output_type": "display_data"
    }
   ],
   "source": [
    "ConfusionMatrixDisplay.from_predictions(y_test, y_pred, normalize='all')"
   ]
  },
  {
   "cell_type": "code",
   "execution_count": 31,
   "metadata": {},
   "outputs": [
    {
     "name": "stdout",
     "output_type": "stream",
     "text": [
      "Accuracy: 0.7489006511011401\n",
      "F1 score: 0.6942025579324246\n"
     ]
    }
   ],
   "source": [
    "# Evaluate accuracy\n",
    "accuracy = accuracy_score(y_test, y_pred)\n",
    "print(\"Accuracy:\", accuracy)\n",
    "\n",
    "# Calculate the F1 score\n",
    "f1 = f1_score(y_test, y_pred, average='weighted')\n",
    "print(\"F1 score:\", f1)"
   ]
  },
  {
   "cell_type": "code",
   "execution_count": 32,
   "metadata": {},
   "outputs": [
    {
     "data": {
      "text/html": [
       "<div>\n",
       "<style scoped>\n",
       "    .dataframe tbody tr th:only-of-type {\n",
       "        vertical-align: middle;\n",
       "    }\n",
       "\n",
       "    .dataframe tbody tr th {\n",
       "        vertical-align: top;\n",
       "    }\n",
       "\n",
       "    .dataframe thead th {\n",
       "        text-align: right;\n",
       "    }\n",
       "</style>\n",
       "<table border=\"1\" class=\"dataframe\">\n",
       "  <thead>\n",
       "    <tr style=\"text-align: right;\">\n",
       "      <th></th>\n",
       "      <th>id</th>\n",
       "      <th>sentence</th>\n",
       "    </tr>\n",
       "  </thead>\n",
       "  <tbody>\n",
       "    <tr>\n",
       "      <th>0</th>\n",
       "      <td>0</td>\n",
       "      <td>I get sad when I see a sick animal.</td>\n",
       "    </tr>\n",
       "    <tr>\n",
       "      <th>1</th>\n",
       "      <td>1</td>\n",
       "      <td>Getting punched in the face like that makes my...</td>\n",
       "    </tr>\n",
       "    <tr>\n",
       "      <th>2</th>\n",
       "      <td>2</td>\n",
       "      <td>I get anxious near the end of the block.</td>\n",
       "    </tr>\n",
       "    <tr>\n",
       "      <th>3</th>\n",
       "      <td>3</td>\n",
       "      <td>being awoken to a shadowy figure at the edge o...</td>\n",
       "    </tr>\n",
       "    <tr>\n",
       "      <th>4</th>\n",
       "      <td>4</td>\n",
       "      <td>I am annoyed that my brother didn't wash his d...</td>\n",
       "    </tr>\n",
       "  </tbody>\n",
       "</table>\n",
       "</div>"
      ],
      "text/plain": [
       "   id                                           sentence\n",
       "0   0                I get sad when I see a sick animal.\n",
       "1   1  Getting punched in the face like that makes my...\n",
       "2   2           I get anxious near the end of the block.\n",
       "3   3  being awoken to a shadowy figure at the edge o...\n",
       "4   4  I am annoyed that my brother didn't wash his d..."
      ]
     },
     "execution_count": 32,
     "metadata": {},
     "output_type": "execute_result"
    }
   ],
   "source": [
    "# Loading kaggle test file\n",
    "file_path = \"C:/Users/neilr/Documents/BUAS year 2/Block C/2023-24c-fai2-adsai-neildaniel221270/Kaggle/Datasets/test (1).csv\"\n",
    "test_kaggle = pd.read_csv(file_path, sep='\\t')\n",
    "test_kaggle.head()"
   ]
  },
  {
   "cell_type": "code",
   "execution_count": 39,
   "metadata": {},
   "outputs": [],
   "source": [
    "# Preprocess the text data\n",
    "X_test_kaggle = test_kaggle['sentence']\n",
    "\n",
    "# Fit the CountVectorizer on the training data\n",
    "vectorizer = TfidfVectorizer()\n",
    "vectorizer.fit(X)\n",
    "\n",
    "# Vectorize the test data using the fitted CountVectorizer\n",
    "X_test_vectorized = vectorizer.transform(X_test_kaggle)"
   ]
  },
  {
   "cell_type": "code",
   "execution_count": 40,
   "metadata": {},
   "outputs": [],
   "source": [
    "# Predict emotions\n",
    "y_pred_kaggle = model.predict(X_test_vectorized)"
   ]
  },
  {
   "cell_type": "code",
   "execution_count": 41,
   "metadata": {},
   "outputs": [
    {
     "data": {
      "text/html": [
       "<div>\n",
       "<style scoped>\n",
       "    .dataframe tbody tr th:only-of-type {\n",
       "        vertical-align: middle;\n",
       "    }\n",
       "\n",
       "    .dataframe tbody tr th {\n",
       "        vertical-align: top;\n",
       "    }\n",
       "\n",
       "    .dataframe thead th {\n",
       "        text-align: right;\n",
       "    }\n",
       "</style>\n",
       "<table border=\"1\" class=\"dataframe\">\n",
       "  <thead>\n",
       "    <tr style=\"text-align: right;\">\n",
       "      <th></th>\n",
       "      <th>id</th>\n",
       "      <th>emotion</th>\n",
       "    </tr>\n",
       "  </thead>\n",
       "  <tbody>\n",
       "    <tr>\n",
       "      <th>0</th>\n",
       "      <td>0</td>\n",
       "      <td>other</td>\n",
       "    </tr>\n",
       "    <tr>\n",
       "      <th>1</th>\n",
       "      <td>1</td>\n",
       "      <td>other</td>\n",
       "    </tr>\n",
       "    <tr>\n",
       "      <th>2</th>\n",
       "      <td>2</td>\n",
       "      <td>other</td>\n",
       "    </tr>\n",
       "    <tr>\n",
       "      <th>3</th>\n",
       "      <td>3</td>\n",
       "      <td>other</td>\n",
       "    </tr>\n",
       "    <tr>\n",
       "      <th>4</th>\n",
       "      <td>4</td>\n",
       "      <td>other</td>\n",
       "    </tr>\n",
       "    <tr>\n",
       "      <th>...</th>\n",
       "      <td>...</td>\n",
       "      <td>...</td>\n",
       "    </tr>\n",
       "    <tr>\n",
       "      <th>1431</th>\n",
       "      <td>1431</td>\n",
       "      <td>other</td>\n",
       "    </tr>\n",
       "    <tr>\n",
       "      <th>1432</th>\n",
       "      <td>1432</td>\n",
       "      <td>other</td>\n",
       "    </tr>\n",
       "    <tr>\n",
       "      <th>1433</th>\n",
       "      <td>1433</td>\n",
       "      <td>other</td>\n",
       "    </tr>\n",
       "    <tr>\n",
       "      <th>1434</th>\n",
       "      <td>1434</td>\n",
       "      <td>other</td>\n",
       "    </tr>\n",
       "    <tr>\n",
       "      <th>1435</th>\n",
       "      <td>1435</td>\n",
       "      <td>other</td>\n",
       "    </tr>\n",
       "  </tbody>\n",
       "</table>\n",
       "<p>1436 rows × 2 columns</p>\n",
       "</div>"
      ],
      "text/plain": [
       "        id emotion\n",
       "0        0   other\n",
       "1        1   other\n",
       "2        2   other\n",
       "3        3   other\n",
       "4        4   other\n",
       "...    ...     ...\n",
       "1431  1431   other\n",
       "1432  1432   other\n",
       "1433  1433   other\n",
       "1434  1434   other\n",
       "1435  1435   other\n",
       "\n",
       "[1436 rows x 2 columns]"
      ]
     },
     "execution_count": 41,
     "metadata": {},
     "output_type": "execute_result"
    }
   ],
   "source": [
    "# Create DataFrame with predictions\n",
    "predictions = pd.DataFrame({'id': test_kaggle['id'], 'emotion': y_pred_kaggle})\n",
    "predictions"
   ]
  },
  {
   "cell_type": "code",
   "execution_count": 42,
   "metadata": {},
   "outputs": [
    {
     "data": {
      "text/plain": [
       "emotion\n",
       "other        1421\n",
       "happiness      15\n",
       "Name: count, dtype: int64"
      ]
     },
     "execution_count": 42,
     "metadata": {},
     "output_type": "execute_result"
    }
   ],
   "source": [
    "# Count occurrences of each emotion\n",
    "emotion_counts = predictions['emotion'].value_counts()\n",
    "emotion_counts"
   ]
  },
  {
   "cell_type": "code",
   "execution_count": null,
   "metadata": {},
   "outputs": [],
   "source": [
    "# Save predictions to CSV\n",
    "predictions.to_csv('./Kaggle/Datasets/predictions_NB_4.csv', index=False)\n",
    "print(\"DataFrame has been saved as predictions_NB_4.csv\")"
   ]
  }
 ],
 "metadata": {
  "kernelspec": {
   "display_name": "base",
   "language": "python",
   "name": "python3"
  },
  "language_info": {
   "codemirror_mode": {
    "name": "ipython",
    "version": 3
   },
   "file_extension": ".py",
   "mimetype": "text/x-python",
   "name": "python",
   "nbconvert_exporter": "python",
   "pygments_lexer": "ipython3",
   "version": "3.11.3"
  }
 },
 "nbformat": 4,
 "nbformat_minor": 2
}
