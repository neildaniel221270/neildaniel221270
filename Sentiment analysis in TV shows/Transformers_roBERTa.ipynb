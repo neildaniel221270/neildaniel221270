{
 "cells": [
  {
   "cell_type": "code",
   "execution_count": 1,
   "metadata": {},
   "outputs": [
    {
     "name": "stdout",
     "output_type": "stream",
     "text": [
      "emotion\n",
      "anger        10000\n",
      "disgust      10000\n",
      "happiness    10000\n",
      "sadness      10000\n",
      "surprise     10000\n",
      "fear          6920\n",
      "Name: count, dtype: int64\n"
     ]
    },
    {
     "name": "stderr",
     "output_type": "stream",
     "text": [
      "/tmp/ipykernel_104237/3537599619.py:19: DeprecationWarning: DataFrameGroupBy.apply operated on the grouping columns. This behavior is deprecated, and in a future version of pandas the grouping columns will be excluded from the operation. Either pass `include_groups=False` to exclude the groupings or explicitly select the grouping columns after groupby to silence this warning.\n",
      "  data_df_sample = data_df.groupby('emotion').apply(sample_sentences).reset_index(drop=True)\n"
     ]
    }
   ],
   "source": [
    "import pandas as pd\n",
    "\n",
    "# Load the data\n",
    "data_df = pd.read_csv('data/goemotions_cleaned.csv')\n",
    "\n",
    "# remove the rows with null values\n",
    "data_df = data_df.dropna()\n",
    "\n",
    "data_df_sample = data_df\n",
    "\n",
    "# Function to sample 1000 sentences for each group\n",
    "def sample_sentences(group):\n",
    "    return group.sample(min(len(group), 10000))\n",
    "\n",
    "# Apply the function to each group and concatenate the results\n",
    "data_df_sample = data_df.groupby('emotion').apply(sample_sentences).reset_index(drop=True)\n",
    "\n",
    "# Shuffle the data\n",
    "data_df_sample = data_df_sample.sample(frac=1).reset_index(drop=True)\n",
    "\n",
    "sequences = data_df_sample['sentence'].tolist()\n",
    "labels = data_df_sample['emotion'].tolist()\n",
    "\n",
    "print(data_df_sample.value_counts('emotion'))"
   ]
  },
  {
   "cell_type": "code",
   "execution_count": 2,
   "metadata": {},
   "outputs": [
    {
     "data": {
      "text/html": [
       "<div>\n",
       "<style scoped>\n",
       "    .dataframe tbody tr th:only-of-type {\n",
       "        vertical-align: middle;\n",
       "    }\n",
       "\n",
       "    .dataframe tbody tr th {\n",
       "        vertical-align: top;\n",
       "    }\n",
       "\n",
       "    .dataframe thead th {\n",
       "        text-align: right;\n",
       "    }\n",
       "</style>\n",
       "<table border=\"1\" class=\"dataframe\">\n",
       "  <thead>\n",
       "    <tr style=\"text-align: right;\">\n",
       "      <th></th>\n",
       "      <th>sentence</th>\n",
       "      <th>emotion</th>\n",
       "    </tr>\n",
       "  </thead>\n",
       "  <tbody>\n",
       "    <tr>\n",
       "      <th>0</th>\n",
       "      <td>I don't feel alive anymore. I don't feel anyth...</td>\n",
       "      <td>sadness</td>\n",
       "    </tr>\n",
       "    <tr>\n",
       "      <th>1</th>\n",
       "      <td>Maybe Orlando for Bolts vs Cats? Or Daytona mi...</td>\n",
       "      <td>surprise</td>\n",
       "    </tr>\n",
       "    <tr>\n",
       "      <th>2</th>\n",
       "      <td>After all that i expected it to not look terri...</td>\n",
       "      <td>fear</td>\n",
       "    </tr>\n",
       "    <tr>\n",
       "      <th>3</th>\n",
       "      <td>I was eating watching tonight's episode. OMG I...</td>\n",
       "      <td>happiness</td>\n",
       "    </tr>\n",
       "    <tr>\n",
       "      <th>4</th>\n",
       "      <td>this guy is such a douchebag</td>\n",
       "      <td>anger</td>\n",
       "    </tr>\n",
       "  </tbody>\n",
       "</table>\n",
       "</div>"
      ],
      "text/plain": [
       "                                            sentence    emotion\n",
       "0  I don't feel alive anymore. I don't feel anyth...    sadness\n",
       "1  Maybe Orlando for Bolts vs Cats? Or Daytona mi...   surprise\n",
       "2  After all that i expected it to not look terri...       fear\n",
       "3  I was eating watching tonight's episode. OMG I...  happiness\n",
       "4                       this guy is such a douchebag      anger"
      ]
     },
     "execution_count": 2,
     "metadata": {},
     "output_type": "execute_result"
    }
   ],
   "source": [
    "data_df_sample.head(5)"
   ]
  },
  {
   "cell_type": "code",
   "execution_count": 3,
   "metadata": {},
   "outputs": [],
   "source": [
    "from sklearn.model_selection import train_test_split\n",
    "\n",
    "# anger, disgust, fear, happiness, sadness, surprise\n",
    "label_mapping = {\n",
    "    'anger': 0,\n",
    "    'disgust': 1,\n",
    "    'fear': 2,\n",
    "    'happiness': 3,\n",
    "    'sadness': 4,\n",
    "    'surprise': 5\n",
    "}\n",
    "\n",
    "# Encode the labels manually\n",
    "labels = [label_mapping[label] for label in labels]\n",
    "\n",
    "# Split\n",
    "X_train, X_test, y_train, y_test = train_test_split(sequences, labels, test_size=0.2, random_state=42)"
   ]
  },
  {
   "cell_type": "code",
   "execution_count": 4,
   "metadata": {},
   "outputs": [
    {
     "name": "stderr",
     "output_type": "stream",
     "text": [
      "2024-04-09 19:44:33.651426: E external/local_xla/xla/stream_executor/cuda/cuda_dnn.cc:9261] Unable to register cuDNN factory: Attempting to register factory for plugin cuDNN when one has already been registered\n",
      "2024-04-09 19:44:33.651466: E external/local_xla/xla/stream_executor/cuda/cuda_fft.cc:607] Unable to register cuFFT factory: Attempting to register factory for plugin cuFFT when one has already been registered\n",
      "2024-04-09 19:44:33.652687: E external/local_xla/xla/stream_executor/cuda/cuda_blas.cc:1515] Unable to register cuBLAS factory: Attempting to register factory for plugin cuBLAS when one has already been registered\n",
      "2024-04-09 19:44:33.659170: I tensorflow/core/platform/cpu_feature_guard.cc:182] This TensorFlow binary is optimized to use available CPU instructions in performance-critical operations.\n",
      "To enable the following instructions: AVX2 FMA, in other operations, rebuild TensorFlow with the appropriate compiler flags.\n",
      "2024-04-09 19:44:36.105176: W tensorflow/core/common_runtime/gpu/gpu_bfc_allocator.cc:47] Overriding orig_value setting because the TF_FORCE_GPU_ALLOW_GROWTH environment variable is set. Original config value was 0.\n",
      "2024-04-09 19:44:36.105577: I tensorflow/core/common_runtime/gpu/gpu_device.cc:1929] Created device /job:localhost/replica:0/task:0/device:GPU:0 with 37722 MB memory:  -> device: 0, name: NVIDIA RTX A6000, pci bus id: 0000:01:00.0, compute capability: 8.6\n",
      "Some weights of the PyTorch model were not used when initializing the TF 2.0 model TFRobertaForSequenceClassification: ['roberta.embeddings.position_ids']\n",
      "- This IS expected if you are initializing TFRobertaForSequenceClassification from a PyTorch model trained on another task or with another architecture (e.g. initializing a TFBertForSequenceClassification model from a BertForPreTraining model).\n",
      "- This IS NOT expected if you are initializing TFRobertaForSequenceClassification from a PyTorch model that you expect to be exactly identical (e.g. initializing a TFBertForSequenceClassification model from a BertForSequenceClassification model).\n",
      "Some weights or buffers of the TF 2.0 model TFRobertaForSequenceClassification were not initialized from the PyTorch model and are newly initialized: ['classifier.dense.weight', 'classifier.dense.bias', 'classifier.out_proj.weight', 'classifier.out_proj.bias']\n",
      "You should probably TRAIN this model on a down-stream task to be able to use it for predictions and inference.\n"
     ]
    }
   ],
   "source": [
    "from transformers import RobertaTokenizer, TFRobertaForSequenceClassification\n",
    "\n",
    "import tensorflow as tf\n",
    "\n",
    "# Load the pre-trained model\n",
    "tokenizer = RobertaTokenizer.from_pretrained('roberta-base')\n",
    "model = TFRobertaForSequenceClassification.from_pretrained('roberta-base', num_labels=6)\n",
    "\n",
    "# Tokenize the input\n",
    "train_batch = tokenizer(X_train, padding=True, truncation=True, return_tensors=\"tf\")\n",
    "val_batch = tokenizer(X_test, padding=True, truncation=True, return_tensors=\"tf\")\n",
    "\n",
    "# Prepare the datasets\n",
    "train_dataset = tf.data.Dataset.from_tensor_slices((dict(train_batch), y_train)).shuffle(10000).batch(32)\n",
    "val_dataset = tf.data.Dataset.from_tensor_slices((dict(val_batch), y_test)).batch(64)"
   ]
  },
  {
   "cell_type": "code",
   "execution_count": 5,
   "metadata": {},
   "outputs": [
    {
     "name": "stdout",
     "output_type": "stream",
     "text": [
      "Model: \"tf_roberta_for_sequence_classification\"\n",
      "_________________________________________________________________\n",
      " Layer (type)                Output Shape              Param #   \n",
      "=================================================================\n",
      " roberta (TFRobertaMainLaye  multiple                  124055040 \n",
      " r)                                                              \n",
      "                                                                 \n",
      " classifier (TFRobertaClass  multiple                  595206    \n",
      " ificationHead)                                                  \n",
      "                                                                 \n",
      "=================================================================\n",
      "Total params: 124650246 (475.50 MB)\n",
      "Trainable params: 124650246 (475.50 MB)\n",
      "Non-trainable params: 0 (0.00 Byte)\n",
      "_________________________________________________________________\n"
     ]
    }
   ],
   "source": [
    "# Define optimization parameters\n",
    "\n",
    "learning_rate = 2e-5  # Set your desired learning rate here\n",
    "batch_size = 32\n",
    "num_epochs = 100\n",
    "\n",
    "optimizer = tf.keras.optimizers.Adam(learning_rate=learning_rate)\n",
    "loss = tf.keras.losses.SparseCategoricalCrossentropy(from_logits=True)\n",
    "metric = tf.keras.metrics.SparseCategoricalAccuracy('accuracy')\n",
    "\n",
    "# Compile the model\n",
    "model.compile(\n",
    "    optimizer=optimizer,\n",
    "    loss=loss,\n",
    "    metrics=metric,\n",
    ")\n",
    "model.summary()"
   ]
  },
  {
   "cell_type": "code",
   "execution_count": 6,
   "metadata": {},
   "outputs": [
    {
     "name": "stdout",
     "output_type": "stream",
     "text": [
      "{0: 0.9486666666666667, 1: 0.9486666666666667, 2: 1.3709055876685934, 3: 0.9486666666666667, 4: 0.9486666666666667, 5: 0.9486666666666667}\n",
      "Epoch 1/100\n"
     ]
    },
    {
     "name": "stderr",
     "output_type": "stream",
     "text": [
      "WARNING: AutoGraph could not transform <function infer_framework at 0x7f083851e480> and will run it as-is.\n",
      "Cause: for/else statement not yet supported\n",
      "To silence this warning, decorate the function with @tf.autograph.experimental.do_not_convert\n"
     ]
    },
    {
     "name": "stdout",
     "output_type": "stream",
     "text": [
      "WARNING: AutoGraph could not transform <function infer_framework at 0x7f083851e480> and will run it as-is.\n",
      "Cause: for/else statement not yet supported\n",
      "To silence this warning, decorate the function with @tf.autograph.experimental.do_not_convert\n"
     ]
    },
    {
     "name": "stderr",
     "output_type": "stream",
     "text": [
      "2024-04-09 19:45:53.197168: I external/local_xla/xla/service/service.cc:168] XLA service 0x7efe770a1cb0 initialized for platform CUDA (this does not guarantee that XLA will be used). Devices:\n",
      "2024-04-09 19:45:53.197981: I external/local_xla/xla/service/service.cc:176]   StreamExecutor device (0): NVIDIA RTX A6000, Compute Capability 8.6\n",
      "2024-04-09 19:45:53.213500: I tensorflow/compiler/mlir/tensorflow/utils/dump_mlir_util.cc:269] disabling MLIR crash reproducer, set env var `MLIR_CRASH_REPRODUCER_DIRECTORY` to enable.\n",
      "2024-04-09 19:45:53.259602: I external/local_xla/xla/stream_executor/cuda/cuda_dnn.cc:454] Loaded cuDNN version 8902\n",
      "WARNING: All log messages before absl::InitializeLog() is called are written to STDERR\n",
      "I0000 00:00:1712691953.384230  104904 device_compiler.h:186] Compiled cluster using XLA!  This line is logged at most once for the lifetime of the process.\n"
     ]
    },
    {
     "name": "stdout",
     "output_type": "stream",
     "text": [
      "1423/1423 [==============================] - 373s 196ms/step - loss: 1.2351 - accuracy: 0.5360 - val_loss: 1.1459 - val_accuracy: 0.5798\n",
      "Epoch 2/100\n",
      "1423/1423 [==============================] - 254s 179ms/step - loss: 1.0849 - accuracy: 0.5994 - val_loss: 1.1324 - val_accuracy: 0.5820\n",
      "Epoch 3/100\n",
      "1423/1423 [==============================] - 255s 179ms/step - loss: 1.0017 - accuracy: 0.6306 - val_loss: 1.1623 - val_accuracy: 0.5721\n",
      "Epoch 4/100\n",
      "1423/1423 [==============================] - 251s 176ms/step - loss: 0.9217 - accuracy: 0.6599 - val_loss: 1.2023 - val_accuracy: 0.5685\n",
      "Epoch 5/100\n",
      "1423/1423 [==============================] - 252s 177ms/step - loss: 0.8443 - accuracy: 0.6843 - val_loss: 1.2693 - val_accuracy: 0.5632\n",
      "Epoch 6/100\n",
      "1423/1423 [==============================] - 253s 177ms/step - loss: 0.7727 - accuracy: 0.7080 - val_loss: 1.3211 - val_accuracy: 0.5597\n",
      "Epoch 6: early stopping\n"
     ]
    }
   ],
   "source": [
    "early_stopping = tf.keras.callbacks.EarlyStopping(\n",
    "    monitor='val_loss',\n",
    "    mode='min',\n",
    "    verbose=1,\n",
    "    patience=4\n",
    ")\n",
    "\n",
    "# Distribution of classes\n",
    "class_distribution = {\n",
    "    'anger': 10000,\n",
    "    'disgust': 10000,\n",
    "    'fear': 6920,\n",
    "    'happiness': 10000,\n",
    "    'sadness': 10000,\n",
    "    'surprise': 10000\n",
    "}\n",
    "\n",
    "# Calculate class weights\n",
    "total_samples = sum(class_distribution.values())\n",
    "class_weights = {label_mapping[label]: total_samples / (len(class_distribution) * count) for label, count in class_distribution.items()} \n",
    "\n",
    "print(class_weights)\n",
    "\n",
    "history = model.fit(\n",
    "    train_dataset,\n",
    "    epochs=num_epochs,\n",
    "    batch_size=batch_size,\n",
    "    validation_data=val_dataset,\n",
    "    callbacks=[early_stopping]\n",
    ")"
   ]
  },
  {
   "cell_type": "code",
   "execution_count": 7,
   "metadata": {},
   "outputs": [],
   "source": [
    "model.save_pretrained(\"models/roberta_multi_model_v6\")"
   ]
  },
  {
   "cell_type": "code",
   "execution_count": 9,
   "metadata": {},
   "outputs": [
    {
     "name": "stdout",
     "output_type": "stream",
     "text": [
      "178/178 [==============================] - 28s 105ms/step\n",
      "[[ 823  374   80  128  294  284]\n",
      " [ 343  863   96   98  264  294]\n",
      " [  57   53 1079   49   92   63]\n",
      " [ 116  110   48 1256  139  327]\n",
      " [ 204  260  122  139 1107  201]\n",
      " [ 138  171   53  232  183 1244]]\n"
     ]
    }
   ],
   "source": [
    "# with the test data, do error analysis and create a confusion matrix\n",
    "from sklearn.metrics import confusion_matrix\n",
    "import numpy as np\n",
    "\n",
    "# Get the predictions\n",
    "y_pred = model.predict(val_dataset)\n",
    "\n",
    "# Get the predicted classes\n",
    "y_pred = np.argmax(y_pred.logits, axis=1)\n",
    "\n",
    "# Get the confusion matrix\n",
    "conf_matrix = confusion_matrix(y_test, y_pred)\n",
    "\n",
    "print(conf_matrix)"
   ]
  },
  {
   "cell_type": "code",
   "execution_count": 10,
   "metadata": {},
   "outputs": [
    {
     "name": "stdout",
     "output_type": "stream",
     "text": [
      "Accuracy: 0.5597329585382994\n",
      "Precision: 0.5580770584402805\n",
      "Recall: 0.5597329585382994\n",
      "F1 Score: 0.5573384346922768\n"
     ]
    }
   ],
   "source": [
    "# Calculate metrics\n",
    "from sklearn.metrics import accuracy_score, precision_recall_fscore_support, classification_report\n",
    "\n",
    "# Calculate the metrics\n",
    "accuracy = accuracy_score(y_test, y_pred)\n",
    "precision, recall, f1, _ = precision_recall_fscore_support(y_test, y_pred, average='weighted')\n",
    "\n",
    "print(f'Accuracy: {accuracy}')\n",
    "print(f'Precision: {precision}')\n",
    "print(f'Recall: {recall}')\n",
    "print(f'F1 Score: {f1}')"
   ]
  },
  {
   "cell_type": "code",
   "execution_count": 11,
   "metadata": {},
   "outputs": [
    {
     "name": "stdout",
     "output_type": "stream",
     "text": [
      "              precision    recall  f1-score   support\n",
      "\n",
      "       anger       0.49      0.42      0.45      1983\n",
      "     disgust       0.47      0.44      0.46      1958\n",
      "        fear       0.73      0.77      0.75      1393\n",
      "   happiness       0.66      0.63      0.64      1996\n",
      "     sadness       0.53      0.54      0.54      2033\n",
      "    surprise       0.52      0.62      0.56      2021\n",
      "\n",
      "    accuracy                           0.56     11384\n",
      "   macro avg       0.57      0.57      0.57     11384\n",
      "weighted avg       0.56      0.56      0.56     11384\n",
      "\n"
     ]
    }
   ],
   "source": [
    "print(classification_report(y_test, y_pred, target_names=label_mapping.keys()))"
   ]
  },
  {
   "cell_type": "code",
   "execution_count": 12,
   "metadata": {},
   "outputs": [
    {
     "data": {
      "image/png": "[encoded data removed]",
      "text/plain": [
       "<Figure size 1000x800 with 2 Axes>"
      ]
     },
     "metadata": {},
     "output_type": "display_data"
    }
   ],
   "source": [
    "import seaborn as sns\n",
    "import matplotlib.pyplot as plt\n",
    "\n",
    "# Plot the confusion matrix\n",
    "plt.figure(figsize=(10, 8))\n",
    "sns.heatmap(conf_matrix, annot=True, fmt='g', cmap='Blues', xticklabels=label_mapping.keys(), yticklabels=label_mapping.keys())\n",
    "plt.xlabel('Predicted')\n",
    "plt.ylabel('Actual')\n",
    "plt.title('Confusion Matrix')\n",
    "plt.show()"
   ]
  }
 ],
 "metadata": {
  "kernelspec": {
   "display_name": "Python 3 (ipykernel)",
   "language": "python",
   "name": "python3"
  },
  "language_info": {
   "codemirror_mode": {
    "name": "ipython",
    "version": 3
   },
   "file_extension": ".py",
   "mimetype": "text/x-python",
   "name": "python",
   "nbconvert_exporter": "python",
   "pygments_lexer": "ipython3",
   "version": "3.11.0rc1"
  }
 },
 "nbformat": 4,
 "nbformat_minor": 4
}
